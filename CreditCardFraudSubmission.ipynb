{
 "cells": [
  {
   "cell_type": "code",
   "execution_count": 1,
   "metadata": {},
   "outputs": [
    {
     "data": {
      "text/html": [
       "<div>\n",
       "<style scoped>\n",
       "    .dataframe tbody tr th:only-of-type {\n",
       "        vertical-align: middle;\n",
       "    }\n",
       "\n",
       "    .dataframe tbody tr th {\n",
       "        vertical-align: top;\n",
       "    }\n",
       "\n",
       "    .dataframe thead th {\n",
       "        text-align: right;\n",
       "    }\n",
       "</style>\n",
       "<table border=\"1\" class=\"dataframe\">\n",
       "  <thead>\n",
       "    <tr style=\"text-align: right;\">\n",
       "      <th></th>\n",
       "      <th>Time</th>\n",
       "      <th>V1</th>\n",
       "      <th>V2</th>\n",
       "      <th>V3</th>\n",
       "      <th>V4</th>\n",
       "      <th>V5</th>\n",
       "      <th>V6</th>\n",
       "      <th>V7</th>\n",
       "      <th>V8</th>\n",
       "      <th>V9</th>\n",
       "      <th>...</th>\n",
       "      <th>V21</th>\n",
       "      <th>V22</th>\n",
       "      <th>V23</th>\n",
       "      <th>V24</th>\n",
       "      <th>V25</th>\n",
       "      <th>V26</th>\n",
       "      <th>V27</th>\n",
       "      <th>V28</th>\n",
       "      <th>Amount</th>\n",
       "      <th>Class</th>\n",
       "    </tr>\n",
       "  </thead>\n",
       "  <tbody>\n",
       "    <tr>\n",
       "      <th>0</th>\n",
       "      <td>0.0</td>\n",
       "      <td>-1.359807</td>\n",
       "      <td>-0.072781</td>\n",
       "      <td>2.536347</td>\n",
       "      <td>1.378155</td>\n",
       "      <td>-0.338321</td>\n",
       "      <td>0.462388</td>\n",
       "      <td>0.239599</td>\n",
       "      <td>0.098698</td>\n",
       "      <td>0.363787</td>\n",
       "      <td>...</td>\n",
       "      <td>-0.018307</td>\n",
       "      <td>0.277838</td>\n",
       "      <td>-0.110474</td>\n",
       "      <td>0.066928</td>\n",
       "      <td>0.128539</td>\n",
       "      <td>-0.189115</td>\n",
       "      <td>0.133558</td>\n",
       "      <td>-0.021053</td>\n",
       "      <td>149.62</td>\n",
       "      <td>0</td>\n",
       "    </tr>\n",
       "    <tr>\n",
       "      <th>1</th>\n",
       "      <td>0.0</td>\n",
       "      <td>1.191857</td>\n",
       "      <td>0.266151</td>\n",
       "      <td>0.166480</td>\n",
       "      <td>0.448154</td>\n",
       "      <td>0.060018</td>\n",
       "      <td>-0.082361</td>\n",
       "      <td>-0.078803</td>\n",
       "      <td>0.085102</td>\n",
       "      <td>-0.255425</td>\n",
       "      <td>...</td>\n",
       "      <td>-0.225775</td>\n",
       "      <td>-0.638672</td>\n",
       "      <td>0.101288</td>\n",
       "      <td>-0.339846</td>\n",
       "      <td>0.167170</td>\n",
       "      <td>0.125895</td>\n",
       "      <td>-0.008983</td>\n",
       "      <td>0.014724</td>\n",
       "      <td>2.69</td>\n",
       "      <td>0</td>\n",
       "    </tr>\n",
       "    <tr>\n",
       "      <th>2</th>\n",
       "      <td>1.0</td>\n",
       "      <td>-1.358354</td>\n",
       "      <td>-1.340163</td>\n",
       "      <td>1.773209</td>\n",
       "      <td>0.379780</td>\n",
       "      <td>-0.503198</td>\n",
       "      <td>1.800499</td>\n",
       "      <td>0.791461</td>\n",
       "      <td>0.247676</td>\n",
       "      <td>-1.514654</td>\n",
       "      <td>...</td>\n",
       "      <td>0.247998</td>\n",
       "      <td>0.771679</td>\n",
       "      <td>0.909412</td>\n",
       "      <td>-0.689281</td>\n",
       "      <td>-0.327642</td>\n",
       "      <td>-0.139097</td>\n",
       "      <td>-0.055353</td>\n",
       "      <td>-0.059752</td>\n",
       "      <td>378.66</td>\n",
       "      <td>0</td>\n",
       "    </tr>\n",
       "    <tr>\n",
       "      <th>3</th>\n",
       "      <td>1.0</td>\n",
       "      <td>-0.966272</td>\n",
       "      <td>-0.185226</td>\n",
       "      <td>1.792993</td>\n",
       "      <td>-0.863291</td>\n",
       "      <td>-0.010309</td>\n",
       "      <td>1.247203</td>\n",
       "      <td>0.237609</td>\n",
       "      <td>0.377436</td>\n",
       "      <td>-1.387024</td>\n",
       "      <td>...</td>\n",
       "      <td>-0.108300</td>\n",
       "      <td>0.005274</td>\n",
       "      <td>-0.190321</td>\n",
       "      <td>-1.175575</td>\n",
       "      <td>0.647376</td>\n",
       "      <td>-0.221929</td>\n",
       "      <td>0.062723</td>\n",
       "      <td>0.061458</td>\n",
       "      <td>123.50</td>\n",
       "      <td>0</td>\n",
       "    </tr>\n",
       "    <tr>\n",
       "      <th>4</th>\n",
       "      <td>2.0</td>\n",
       "      <td>-1.158233</td>\n",
       "      <td>0.877737</td>\n",
       "      <td>1.548718</td>\n",
       "      <td>0.403034</td>\n",
       "      <td>-0.407193</td>\n",
       "      <td>0.095921</td>\n",
       "      <td>0.592941</td>\n",
       "      <td>-0.270533</td>\n",
       "      <td>0.817739</td>\n",
       "      <td>...</td>\n",
       "      <td>-0.009431</td>\n",
       "      <td>0.798278</td>\n",
       "      <td>-0.137458</td>\n",
       "      <td>0.141267</td>\n",
       "      <td>-0.206010</td>\n",
       "      <td>0.502292</td>\n",
       "      <td>0.219422</td>\n",
       "      <td>0.215153</td>\n",
       "      <td>69.99</td>\n",
       "      <td>0</td>\n",
       "    </tr>\n",
       "  </tbody>\n",
       "</table>\n",
       "<p>5 rows × 31 columns</p>\n",
       "</div>"
      ],
      "text/plain": [
       "   Time        V1        V2        V3        V4        V5        V6        V7  \\\n",
       "0   0.0 -1.359807 -0.072781  2.536347  1.378155 -0.338321  0.462388  0.239599   \n",
       "1   0.0  1.191857  0.266151  0.166480  0.448154  0.060018 -0.082361 -0.078803   \n",
       "2   1.0 -1.358354 -1.340163  1.773209  0.379780 -0.503198  1.800499  0.791461   \n",
       "3   1.0 -0.966272 -0.185226  1.792993 -0.863291 -0.010309  1.247203  0.237609   \n",
       "4   2.0 -1.158233  0.877737  1.548718  0.403034 -0.407193  0.095921  0.592941   \n",
       "\n",
       "         V8        V9  ...       V21       V22       V23       V24       V25  \\\n",
       "0  0.098698  0.363787  ... -0.018307  0.277838 -0.110474  0.066928  0.128539   \n",
       "1  0.085102 -0.255425  ... -0.225775 -0.638672  0.101288 -0.339846  0.167170   \n",
       "2  0.247676 -1.514654  ...  0.247998  0.771679  0.909412 -0.689281 -0.327642   \n",
       "3  0.377436 -1.387024  ... -0.108300  0.005274 -0.190321 -1.175575  0.647376   \n",
       "4 -0.270533  0.817739  ... -0.009431  0.798278 -0.137458  0.141267 -0.206010   \n",
       "\n",
       "        V26       V27       V28  Amount  Class  \n",
       "0 -0.189115  0.133558 -0.021053  149.62      0  \n",
       "1  0.125895 -0.008983  0.014724    2.69      0  \n",
       "2 -0.139097 -0.055353 -0.059752  378.66      0  \n",
       "3 -0.221929  0.062723  0.061458  123.50      0  \n",
       "4  0.502292  0.219422  0.215153   69.99      0  \n",
       "\n",
       "[5 rows x 31 columns]"
      ]
     },
     "execution_count": 1,
     "metadata": {},
     "output_type": "execute_result"
    }
   ],
   "source": [
    "import pandas as pd\n",
    "import random\n",
    "import warnings\n",
    "warnings.filterwarnings('ignore')\n",
    "import seaborn as sns\n",
    "from matplotlib import pyplot as plt\n",
    "\n",
    "demo = pd.read_csv(\"Videos/creditcard.csv\")\n",
    "X=demo.drop('Class',axis=1)\n",
    "y=demo['Class']\n",
    "demo.head()"
   ]
  },
  {
   "cell_type": "code",
   "execution_count": 2,
   "metadata": {},
   "outputs": [
    {
     "data": {
      "text/plain": [
       "<AxesSubplot:xlabel='Amount', ylabel='Class'>"
      ]
     },
     "execution_count": 2,
     "metadata": {},
     "output_type": "execute_result"
    },
    {
     "data": {
      "image/png": "[encoded data removed]",
      "text/plain": [
       "<Figure size 432x288 with 1 Axes>"
      ]
     },
     "metadata": {
      "needs_background": "light"
     },
     "output_type": "display_data"
    }
   ],
   "source": [
    "#Scatter Plot\n",
    "sns.scatterplot(x='Amount', y = 'Class', data = demo, palette = 'Set1')"
   ]
  },
  {
   "cell_type": "markdown",
   "metadata": {},
   "source": [
    "#### Dropping Time column "
   ]
  },
  {
   "cell_type": "code",
   "execution_count": 3,
   "metadata": {},
   "outputs": [],
   "source": [
    "X = X.drop('Time', axis = 1)"
   ]
  },
  {
   "cell_type": "code",
   "execution_count": 4,
   "metadata": {},
   "outputs": [
    {
     "data": {
      "text/html": [
       "<div>\n",
       "<style scoped>\n",
       "    .dataframe tbody tr th:only-of-type {\n",
       "        vertical-align: middle;\n",
       "    }\n",
       "\n",
       "    .dataframe tbody tr th {\n",
       "        vertical-align: top;\n",
       "    }\n",
       "\n",
       "    .dataframe thead th {\n",
       "        text-align: right;\n",
       "    }\n",
       "</style>\n",
       "<table border=\"1\" class=\"dataframe\">\n",
       "  <thead>\n",
       "    <tr style=\"text-align: right;\">\n",
       "      <th></th>\n",
       "      <th>V1</th>\n",
       "      <th>V2</th>\n",
       "      <th>V3</th>\n",
       "      <th>V4</th>\n",
       "      <th>V5</th>\n",
       "      <th>V6</th>\n",
       "      <th>V7</th>\n",
       "      <th>V8</th>\n",
       "      <th>V9</th>\n",
       "      <th>V10</th>\n",
       "      <th>...</th>\n",
       "      <th>V20</th>\n",
       "      <th>V21</th>\n",
       "      <th>V22</th>\n",
       "      <th>V23</th>\n",
       "      <th>V24</th>\n",
       "      <th>V25</th>\n",
       "      <th>V26</th>\n",
       "      <th>V27</th>\n",
       "      <th>V28</th>\n",
       "      <th>Amount</th>\n",
       "    </tr>\n",
       "  </thead>\n",
       "  <tbody>\n",
       "    <tr>\n",
       "      <th>0</th>\n",
       "      <td>-1.359807</td>\n",
       "      <td>-0.072781</td>\n",
       "      <td>2.536347</td>\n",
       "      <td>1.378155</td>\n",
       "      <td>-0.338321</td>\n",
       "      <td>0.462388</td>\n",
       "      <td>0.239599</td>\n",
       "      <td>0.098698</td>\n",
       "      <td>0.363787</td>\n",
       "      <td>0.090794</td>\n",
       "      <td>...</td>\n",
       "      <td>0.251412</td>\n",
       "      <td>-0.018307</td>\n",
       "      <td>0.277838</td>\n",
       "      <td>-0.110474</td>\n",
       "      <td>0.066928</td>\n",
       "      <td>0.128539</td>\n",
       "      <td>-0.189115</td>\n",
       "      <td>0.133558</td>\n",
       "      <td>-0.021053</td>\n",
       "      <td>149.62</td>\n",
       "    </tr>\n",
       "    <tr>\n",
       "      <th>1</th>\n",
       "      <td>1.191857</td>\n",
       "      <td>0.266151</td>\n",
       "      <td>0.166480</td>\n",
       "      <td>0.448154</td>\n",
       "      <td>0.060018</td>\n",
       "      <td>-0.082361</td>\n",
       "      <td>-0.078803</td>\n",
       "      <td>0.085102</td>\n",
       "      <td>-0.255425</td>\n",
       "      <td>-0.166974</td>\n",
       "      <td>...</td>\n",
       "      <td>-0.069083</td>\n",
       "      <td>-0.225775</td>\n",
       "      <td>-0.638672</td>\n",
       "      <td>0.101288</td>\n",
       "      <td>-0.339846</td>\n",
       "      <td>0.167170</td>\n",
       "      <td>0.125895</td>\n",
       "      <td>-0.008983</td>\n",
       "      <td>0.014724</td>\n",
       "      <td>2.69</td>\n",
       "    </tr>\n",
       "    <tr>\n",
       "      <th>2</th>\n",
       "      <td>-1.358354</td>\n",
       "      <td>-1.340163</td>\n",
       "      <td>1.773209</td>\n",
       "      <td>0.379780</td>\n",
       "      <td>-0.503198</td>\n",
       "      <td>1.800499</td>\n",
       "      <td>0.791461</td>\n",
       "      <td>0.247676</td>\n",
       "      <td>-1.514654</td>\n",
       "      <td>0.207643</td>\n",
       "      <td>...</td>\n",
       "      <td>0.524980</td>\n",
       "      <td>0.247998</td>\n",
       "      <td>0.771679</td>\n",
       "      <td>0.909412</td>\n",
       "      <td>-0.689281</td>\n",
       "      <td>-0.327642</td>\n",
       "      <td>-0.139097</td>\n",
       "      <td>-0.055353</td>\n",
       "      <td>-0.059752</td>\n",
       "      <td>378.66</td>\n",
       "    </tr>\n",
       "    <tr>\n",
       "      <th>3</th>\n",
       "      <td>-0.966272</td>\n",
       "      <td>-0.185226</td>\n",
       "      <td>1.792993</td>\n",
       "      <td>-0.863291</td>\n",
       "      <td>-0.010309</td>\n",
       "      <td>1.247203</td>\n",
       "      <td>0.237609</td>\n",
       "      <td>0.377436</td>\n",
       "      <td>-1.387024</td>\n",
       "      <td>-0.054952</td>\n",
       "      <td>...</td>\n",
       "      <td>-0.208038</td>\n",
       "      <td>-0.108300</td>\n",
       "      <td>0.005274</td>\n",
       "      <td>-0.190321</td>\n",
       "      <td>-1.175575</td>\n",
       "      <td>0.647376</td>\n",
       "      <td>-0.221929</td>\n",
       "      <td>0.062723</td>\n",
       "      <td>0.061458</td>\n",
       "      <td>123.50</td>\n",
       "    </tr>\n",
       "    <tr>\n",
       "      <th>4</th>\n",
       "      <td>-1.158233</td>\n",
       "      <td>0.877737</td>\n",
       "      <td>1.548718</td>\n",
       "      <td>0.403034</td>\n",
       "      <td>-0.407193</td>\n",
       "      <td>0.095921</td>\n",
       "      <td>0.592941</td>\n",
       "      <td>-0.270533</td>\n",
       "      <td>0.817739</td>\n",
       "      <td>0.753074</td>\n",
       "      <td>...</td>\n",
       "      <td>0.408542</td>\n",
       "      <td>-0.009431</td>\n",
       "      <td>0.798278</td>\n",
       "      <td>-0.137458</td>\n",
       "      <td>0.141267</td>\n",
       "      <td>-0.206010</td>\n",
       "      <td>0.502292</td>\n",
       "      <td>0.219422</td>\n",
       "      <td>0.215153</td>\n",
       "      <td>69.99</td>\n",
       "    </tr>\n",
       "    <tr>\n",
       "      <th>...</th>\n",
       "      <td>...</td>\n",
       "      <td>...</td>\n",
       "      <td>...</td>\n",
       "      <td>...</td>\n",
       "      <td>...</td>\n",
       "      <td>...</td>\n",
       "      <td>...</td>\n",
       "      <td>...</td>\n",
       "      <td>...</td>\n",
       "      <td>...</td>\n",
       "      <td>...</td>\n",
       "      <td>...</td>\n",
       "      <td>...</td>\n",
       "      <td>...</td>\n",
       "      <td>...</td>\n",
       "      <td>...</td>\n",
       "      <td>...</td>\n",
       "      <td>...</td>\n",
       "      <td>...</td>\n",
       "      <td>...</td>\n",
       "      <td>...</td>\n",
       "    </tr>\n",
       "    <tr>\n",
       "      <th>284802</th>\n",
       "      <td>-11.881118</td>\n",
       "      <td>10.071785</td>\n",
       "      <td>-9.834783</td>\n",
       "      <td>-2.066656</td>\n",
       "      <td>-5.364473</td>\n",
       "      <td>-2.606837</td>\n",
       "      <td>-4.918215</td>\n",
       "      <td>7.305334</td>\n",
       "      <td>1.914428</td>\n",
       "      <td>4.356170</td>\n",
       "      <td>...</td>\n",
       "      <td>1.475829</td>\n",
       "      <td>0.213454</td>\n",
       "      <td>0.111864</td>\n",
       "      <td>1.014480</td>\n",
       "      <td>-0.509348</td>\n",
       "      <td>1.436807</td>\n",
       "      <td>0.250034</td>\n",
       "      <td>0.943651</td>\n",
       "      <td>0.823731</td>\n",
       "      <td>0.77</td>\n",
       "    </tr>\n",
       "    <tr>\n",
       "      <th>284803</th>\n",
       "      <td>-0.732789</td>\n",
       "      <td>-0.055080</td>\n",
       "      <td>2.035030</td>\n",
       "      <td>-0.738589</td>\n",
       "      <td>0.868229</td>\n",
       "      <td>1.058415</td>\n",
       "      <td>0.024330</td>\n",
       "      <td>0.294869</td>\n",
       "      <td>0.584800</td>\n",
       "      <td>-0.975926</td>\n",
       "      <td>...</td>\n",
       "      <td>0.059616</td>\n",
       "      <td>0.214205</td>\n",
       "      <td>0.924384</td>\n",
       "      <td>0.012463</td>\n",
       "      <td>-1.016226</td>\n",
       "      <td>-0.606624</td>\n",
       "      <td>-0.395255</td>\n",
       "      <td>0.068472</td>\n",
       "      <td>-0.053527</td>\n",
       "      <td>24.79</td>\n",
       "    </tr>\n",
       "    <tr>\n",
       "      <th>284804</th>\n",
       "      <td>1.919565</td>\n",
       "      <td>-0.301254</td>\n",
       "      <td>-3.249640</td>\n",
       "      <td>-0.557828</td>\n",
       "      <td>2.630515</td>\n",
       "      <td>3.031260</td>\n",
       "      <td>-0.296827</td>\n",
       "      <td>0.708417</td>\n",
       "      <td>0.432454</td>\n",
       "      <td>-0.484782</td>\n",
       "      <td>...</td>\n",
       "      <td>0.001396</td>\n",
       "      <td>0.232045</td>\n",
       "      <td>0.578229</td>\n",
       "      <td>-0.037501</td>\n",
       "      <td>0.640134</td>\n",
       "      <td>0.265745</td>\n",
       "      <td>-0.087371</td>\n",
       "      <td>0.004455</td>\n",
       "      <td>-0.026561</td>\n",
       "      <td>67.88</td>\n",
       "    </tr>\n",
       "    <tr>\n",
       "      <th>284805</th>\n",
       "      <td>-0.240440</td>\n",
       "      <td>0.530483</td>\n",
       "      <td>0.702510</td>\n",
       "      <td>0.689799</td>\n",
       "      <td>-0.377961</td>\n",
       "      <td>0.623708</td>\n",
       "      <td>-0.686180</td>\n",
       "      <td>0.679145</td>\n",
       "      <td>0.392087</td>\n",
       "      <td>-0.399126</td>\n",
       "      <td>...</td>\n",
       "      <td>0.127434</td>\n",
       "      <td>0.265245</td>\n",
       "      <td>0.800049</td>\n",
       "      <td>-0.163298</td>\n",
       "      <td>0.123205</td>\n",
       "      <td>-0.569159</td>\n",
       "      <td>0.546668</td>\n",
       "      <td>0.108821</td>\n",
       "      <td>0.104533</td>\n",
       "      <td>10.00</td>\n",
       "    </tr>\n",
       "    <tr>\n",
       "      <th>284806</th>\n",
       "      <td>-0.533413</td>\n",
       "      <td>-0.189733</td>\n",
       "      <td>0.703337</td>\n",
       "      <td>-0.506271</td>\n",
       "      <td>-0.012546</td>\n",
       "      <td>-0.649617</td>\n",
       "      <td>1.577006</td>\n",
       "      <td>-0.414650</td>\n",
       "      <td>0.486180</td>\n",
       "      <td>-0.915427</td>\n",
       "      <td>...</td>\n",
       "      <td>0.382948</td>\n",
       "      <td>0.261057</td>\n",
       "      <td>0.643078</td>\n",
       "      <td>0.376777</td>\n",
       "      <td>0.008797</td>\n",
       "      <td>-0.473649</td>\n",
       "      <td>-0.818267</td>\n",
       "      <td>-0.002415</td>\n",
       "      <td>0.013649</td>\n",
       "      <td>217.00</td>\n",
       "    </tr>\n",
       "  </tbody>\n",
       "</table>\n",
       "<p>284807 rows × 29 columns</p>\n",
       "</div>"
      ],
      "text/plain": [
       "               V1         V2        V3        V4        V5        V6  \\\n",
       "0       -1.359807  -0.072781  2.536347  1.378155 -0.338321  0.462388   \n",
       "1        1.191857   0.266151  0.166480  0.448154  0.060018 -0.082361   \n",
       "2       -1.358354  -1.340163  1.773209  0.379780 -0.503198  1.800499   \n",
       "3       -0.966272  -0.185226  1.792993 -0.863291 -0.010309  1.247203   \n",
       "4       -1.158233   0.877737  1.548718  0.403034 -0.407193  0.095921   \n",
       "...           ...        ...       ...       ...       ...       ...   \n",
       "284802 -11.881118  10.071785 -9.834783 -2.066656 -5.364473 -2.606837   \n",
       "284803  -0.732789  -0.055080  2.035030 -0.738589  0.868229  1.058415   \n",
       "284804   1.919565  -0.301254 -3.249640 -0.557828  2.630515  3.031260   \n",
       "284805  -0.240440   0.530483  0.702510  0.689799 -0.377961  0.623708   \n",
       "284806  -0.533413  -0.189733  0.703337 -0.506271 -0.012546 -0.649617   \n",
       "\n",
       "              V7        V8        V9       V10  ...       V20       V21  \\\n",
       "0       0.239599  0.098698  0.363787  0.090794  ...  0.251412 -0.018307   \n",
       "1      -0.078803  0.085102 -0.255425 -0.166974  ... -0.069083 -0.225775   \n",
       "2       0.791461  0.247676 -1.514654  0.207643  ...  0.524980  0.247998   \n",
       "3       0.237609  0.377436 -1.387024 -0.054952  ... -0.208038 -0.108300   \n",
       "4       0.592941 -0.270533  0.817739  0.753074  ...  0.408542 -0.009431   \n",
       "...          ...       ...       ...       ...  ...       ...       ...   \n",
       "284802 -4.918215  7.305334  1.914428  4.356170  ...  1.475829  0.213454   \n",
       "284803  0.024330  0.294869  0.584800 -0.975926  ...  0.059616  0.214205   \n",
       "284804 -0.296827  0.708417  0.432454 -0.484782  ...  0.001396  0.232045   \n",
       "284805 -0.686180  0.679145  0.392087 -0.399126  ...  0.127434  0.265245   \n",
       "284806  1.577006 -0.414650  0.486180 -0.915427  ...  0.382948  0.261057   \n",
       "\n",
       "             V22       V23       V24       V25       V26       V27       V28  \\\n",
       "0       0.277838 -0.110474  0.066928  0.128539 -0.189115  0.133558 -0.021053   \n",
       "1      -0.638672  0.101288 -0.339846  0.167170  0.125895 -0.008983  0.014724   \n",
       "2       0.771679  0.909412 -0.689281 -0.327642 -0.139097 -0.055353 -0.059752   \n",
       "3       0.005274 -0.190321 -1.175575  0.647376 -0.221929  0.062723  0.061458   \n",
       "4       0.798278 -0.137458  0.141267 -0.206010  0.502292  0.219422  0.215153   \n",
       "...          ...       ...       ...       ...       ...       ...       ...   \n",
       "284802  0.111864  1.014480 -0.509348  1.436807  0.250034  0.943651  0.823731   \n",
       "284803  0.924384  0.012463 -1.016226 -0.606624 -0.395255  0.068472 -0.053527   \n",
       "284804  0.578229 -0.037501  0.640134  0.265745 -0.087371  0.004455 -0.026561   \n",
       "284805  0.800049 -0.163298  0.123205 -0.569159  0.546668  0.108821  0.104533   \n",
       "284806  0.643078  0.376777  0.008797 -0.473649 -0.818267 -0.002415  0.013649   \n",
       "\n",
       "        Amount  \n",
       "0       149.62  \n",
       "1         2.69  \n",
       "2       378.66  \n",
       "3       123.50  \n",
       "4        69.99  \n",
       "...        ...  \n",
       "284802    0.77  \n",
       "284803   24.79  \n",
       "284804   67.88  \n",
       "284805   10.00  \n",
       "284806  217.00  \n",
       "\n",
       "[284807 rows x 29 columns]"
      ]
     },
     "execution_count": 4,
     "metadata": {},
     "output_type": "execute_result"
    }
   ],
   "source": [
    "X"
   ]
  },
  {
   "cell_type": "markdown",
   "metadata": {},
   "source": [
    "#### V1 to V28 are PCA transformed variables"
   ]
  },
  {
   "cell_type": "markdown",
   "metadata": {},
   "source": [
    "#### Visualise the Amount column"
   ]
  },
  {
   "cell_type": "code",
   "execution_count": 5,
   "metadata": {},
   "outputs": [
    {
     "data": {
      "text/plain": [
       "<AxesSubplot:xlabel='Amount', ylabel='Density'>"
      ]
     },
     "execution_count": 5,
     "metadata": {},
     "output_type": "execute_result"
    },
    {
     "data": {
      "image/png": "[encoded data removed]",
      "text/plain": [
       "<Figure size 432x288 with 1 Axes>"
      ]
     },
     "metadata": {
      "needs_background": "light"
     },
     "output_type": "display_data"
    }
   ],
   "source": [
    "import seaborn as sns\n",
    "sns.distplot(demo['Amount'], kde = True)"
   ]
  },
  {
   "cell_type": "code",
   "execution_count": 6,
   "metadata": {},
   "outputs": [
    {
     "data": {
      "image/png": "[encoded data removed]",
      "text/plain": [
       "<Figure size 432x288 with 1 Axes>"
      ]
     },
     "metadata": {
      "needs_background": "light"
     },
     "output_type": "display_data"
    }
   ],
   "source": [
    "ax = y.value_counts().plot(kind = 'barh')\n",
    "ax.set_xscale('log')"
   ]
  },
  {
   "cell_type": "code",
   "execution_count": 7,
   "metadata": {},
   "outputs": [
    {
     "data": {
      "text/plain": [
       "0    284315\n",
       "1       492\n",
       "Name: Class, dtype: int64"
      ]
     },
     "execution_count": 7,
     "metadata": {},
     "output_type": "execute_result"
    }
   ],
   "source": [
    "y.value_counts()"
   ]
  },
  {
   "cell_type": "code",
   "execution_count": null,
   "metadata": {},
   "outputs": [],
   "source": []
  },
  {
   "cell_type": "markdown",
   "metadata": {},
   "source": [
    "#### The dataset is highly imbalanced"
   ]
  },
  {
   "cell_type": "code",
   "execution_count": 8,
   "metadata": {},
   "outputs": [],
   "source": [
    "# Train test split\n",
    "from sklearn.model_selection import train_test_split\n",
    "X_train, X_test, y_train, y_test = train_test_split(X, y, train_size = .7, random_state = 42, stratify=y)"
   ]
  },
  {
   "cell_type": "code",
   "execution_count": null,
   "metadata": {},
   "outputs": [],
   "source": []
  },
  {
   "cell_type": "code",
   "execution_count": 65,
   "metadata": {},
   "outputs": [],
   "source": [
    "def draw_roc( actual, probs ):\n",
    "    fpr, tpr, thresholds = metrics.roc_curve( actual, probs,\n",
    "                                              drop_intermediate = False )\n",
    "    auc_score = metrics.roc_auc_score( actual, probs )\n",
    "    plt.figure(figsize=(5, 5))\n",
    "    plt.plot( fpr, tpr, label='ROC curve (area = %0.2f)' % auc_score )\n",
    "    plt.plot([0, 1], [0, 1], 'k--')\n",
    "    plt.xlim([0.0, 1.0])\n",
    "    plt.ylim([0.0, 1.05])\n",
    "    plt.xlabel('False Positive Rate or [1 - True Negative Rate]')\n",
    "    plt.ylabel('True Positive Rate')\n",
    "    plt.title('Receiver operating characteristic example')\n",
    "    plt.legend(loc=\"lower right\")\n",
    "    plt.show()\n",
    "\n",
    "    return None"
   ]
  },
  {
   "cell_type": "markdown",
   "metadata": {},
   "source": [
    "### Evaluating performance\n",
    "- KNN"
   ]
  },
  {
   "cell_type": "code",
   "execution_count": 15,
   "metadata": {},
   "outputs": [],
   "source": [
    "from sklearn.neighbors import KNeighborsClassifier\n",
    "import numpy as np\n",
    "neighbours = np.arange(2,9)\n",
    "train_accuracy =np.empty(len(neighbours))\n",
    "test_accuracy = np.empty(len(neighbours))\n",
    "\n",
    "for i,k in enumerate(neighbours):\n",
    "    #Setup a knn classifier with k neighbors\n",
    "    knn=KNeighborsClassifier(n_neighbors=k,algorithm=\"kd_tree\",n_jobs=-1)\n",
    "    \n",
    "    #Fit the model\n",
    "    knn.fit(X_train,y_train.ravel())\n",
    "    \n",
    "    #Compute accuracy on the training set\n",
    "    train_accuracy[i] = knn.score(X_train, y_train.ravel())\n",
    "    \n",
    "    #Compute accuracy on the test set\n",
    "    test_accuracy[i] = knn.score(X_test, y_test.ravel()) "
   ]
  },
  {
   "cell_type": "code",
   "execution_count": 16,
   "metadata": {},
   "outputs": [
    {
     "data": {
      "image/png": "[encoded data removed]",
      "text/plain": [
       "<Figure size 432x288 with 1 Axes>"
      ]
     },
     "metadata": {
      "needs_background": "light"
     },
     "output_type": "display_data"
    }
   ],
   "source": [
    "#Generate plot\n",
    "plt.title('k-NN Varying number of neighbors')\n",
    "plt.plot(neighbours, test_accuracy, label='Testing Accuracy')\n",
    "plt.plot(neighbours, train_accuracy, label='Training accuracy')\n",
    "plt.legend()\n",
    "plt.xlabel('Number of neighbors')\n",
    "plt.ylabel('Accuracy')\n",
    "plt.show()"
   ]
  },
  {
   "cell_type": "code",
   "execution_count": 17,
   "metadata": {},
   "outputs": [],
   "source": [
    "idx = np.where(test_accuracy == max(test_accuracy))\n",
    "x = neighbours[idx]"
   ]
  },
  {
   "cell_type": "code",
   "execution_count": 18,
   "metadata": {},
   "outputs": [],
   "source": [
    "# predicting labels for testing set\n",
    "knn_predicted_test_labels=knn.predict(X_test)"
   ]
  },
  {
   "cell_type": "code",
   "execution_count": 19,
   "metadata": {},
   "outputs": [],
   "source": [
    "from sklearn.metrics import confusion_matrix,accuracy_score,precision_score,recall_score,f1_score,matthews_corrcoef,classification_report,roc_curve\n",
    "#scoring knn\n",
    "knn_accuracy_score  = accuracy_score(y_test,knn_predicted_test_labels)\n",
    "knn_precison_score  = precision_score(y_test,knn_predicted_test_labels)\n",
    "knn_recall_score    = recall_score(y_test,knn_predicted_test_labels)\n",
    "knn_f1_score        = f1_score(y_test,knn_predicted_test_labels)\n",
    "knn_MCC             = matthews_corrcoef(y_test,knn_predicted_test_labels)"
   ]
  },
  {
   "cell_type": "code",
   "execution_count": 20,
   "metadata": {},
   "outputs": [
    {
     "name": "stdout",
     "output_type": "stream",
     "text": [
      "\n",
      "K-Nearest Neighbours\n",
      "Scores\n",
      "Accuracy --> 0.9991573329588147\n",
      "Precison --> 0.8478260869565217\n",
      "Recall --> 0.5735294117647058\n",
      "F1 --> 0.6842105263157895\n",
      "MCC --> 0.6969393294720038\n",
      "              precision    recall  f1-score   support\n",
      "\n",
      "           0       1.00      1.00      1.00     85307\n",
      "           1       0.85      0.57      0.68       136\n",
      "\n",
      "    accuracy                           1.00     85443\n",
      "   macro avg       0.92      0.79      0.84     85443\n",
      "weighted avg       1.00      1.00      1.00     85443\n",
      "\n"
     ]
    }
   ],
   "source": [
    "#printing  \n",
    "print(\"\")\n",
    "print(\"K-Nearest Neighbours\")\n",
    "print(\"Scores\")\n",
    "print(\"Accuracy -->\",knn_accuracy_score)\n",
    "print(\"Precison -->\",knn_precison_score)\n",
    "print(\"Recall -->\",knn_recall_score)\n",
    "print(\"F1 -->\",knn_f1_score)\n",
    "print(\"MCC -->\",knn_MCC)\n",
    "print(classification_report(y_test,knn_predicted_test_labels))"
   ]
  },
  {
   "cell_type": "code",
   "execution_count": 37,
   "metadata": {},
   "outputs": [],
   "source": [
    "# Recall Score from KNN : 0.57"
   ]
  },
  {
   "cell_type": "markdown",
   "metadata": {},
   "source": [
    "- DECISION TREE"
   ]
  },
  {
   "cell_type": "code",
   "execution_count": 16,
   "metadata": {},
   "outputs": [
    {
     "data": {
      "text/plain": [
       "DecisionTreeClassifier(max_depth=3)"
      ]
     },
     "execution_count": 16,
     "metadata": {},
     "output_type": "execute_result"
    }
   ],
   "source": [
    "from sklearn.tree import DecisionTreeClassifier\n",
    "dt = DecisionTreeClassifier(max_depth=3)\n",
    "dt.fit(X_train, y_train)"
   ]
  },
  {
   "cell_type": "code",
   "execution_count": 17,
   "metadata": {},
   "outputs": [],
   "source": [
    "y_train_pred = dt.predict(X_train)\n",
    "y_test_pred = dt.predict(X_test)"
   ]
  },
  {
   "cell_type": "code",
   "execution_count": 15,
   "metadata": {},
   "outputs": [],
   "source": [
    "from sklearn.metrics import confusion_matrix, accuracy_score, recall_score\n",
    "def evaluate_model(dt_classifier):\n",
    "    print(\"Train Recall :\", recall_score(y_train, dt_classifier.predict(X_train)))\n",
    "    print(\"Train Confusion Matrix:\")\n",
    "    print(confusion_matrix(y_train, dt_classifier.predict(X_train)))\n",
    "    print(\"-\"*50)\n",
    "    print(\"Test Recall :\", recall_score(y_test, dt_classifier.predict(X_test)))\n",
    "    print(\"Test Confusion Matrix:\")\n",
    "    print(confusion_matrix(y_test, dt_classifier.predict(X_test)))"
   ]
  },
  {
   "cell_type": "code",
   "execution_count": 20,
   "metadata": {},
   "outputs": [
    {
     "name": "stdout",
     "output_type": "stream",
     "text": [
      "0.9993027828494613\n"
     ]
    },
    {
     "data": {
      "text/plain": [
       "array([[198959,     49],\n",
       "       [    90,    266]])"
      ]
     },
     "execution_count": 20,
     "metadata": {},
     "output_type": "execute_result"
    }
   ],
   "source": [
    "print(accuracy_score(y_train, y_train_pred))\n",
    "confusion_matrix(y_train, y_train_pred)"
   ]
  },
  {
   "cell_type": "code",
   "execution_count": 21,
   "metadata": {},
   "outputs": [
    {
     "name": "stdout",
     "output_type": "stream",
     "text": [
      "0.9992743700478681\n"
     ]
    },
    {
     "data": {
      "text/plain": [
       "array([[85277,    30],\n",
       "       [   32,   104]])"
      ]
     },
     "execution_count": 21,
     "metadata": {},
     "output_type": "execute_result"
    }
   ],
   "source": [
    "#Test set accuracy\n",
    "print(accuracy_score(y_test, y_test_pred))\n",
    "confusion_matrix(y_test, y_test_pred)"
   ]
  },
  {
   "cell_type": "code",
   "execution_count": 22,
   "metadata": {},
   "outputs": [
    {
     "name": "stdout",
     "output_type": "stream",
     "text": [
      "0.7647058823529411\n"
     ]
    },
    {
     "data": {
      "text/plain": [
       "array([[85277,    30],\n",
       "       [   32,   104]])"
      ]
     },
     "execution_count": 22,
     "metadata": {},
     "output_type": "execute_result"
    }
   ],
   "source": [
    "#Test set recall\n",
    "print(recall_score(y_test, y_test_pred))\n",
    "confusion_matrix(y_test, y_test_pred)"
   ]
  },
  {
   "cell_type": "code",
   "execution_count": 25,
   "metadata": {},
   "outputs": [],
   "source": [
    "#scoring DT \n",
    "dt_accuracy_score  = accuracy_score(y_test,y_test_pred)\n",
    "dt_precison_score  = precision_score(y_test,y_test_pred)\n",
    "dt_recall_score    = recall_score(y_test,y_test_pred)\n",
    "dt_f1_score        = f1_score(y_test,y_test_pred)\n",
    "dt_MCC             = matthews_corrcoef(y_test,y_test_pred)\n"
   ]
  },
  {
   "cell_type": "code",
   "execution_count": 27,
   "metadata": {},
   "outputs": [
    {
     "name": "stdout",
     "output_type": "stream",
     "text": [
      "\n",
      "Decision Tree\n",
      "Scores\n",
      "Accuracy --> 0.9992743700478681\n",
      "Precison --> 0.7761194029850746\n",
      "Recall --> 0.7647058823529411\n",
      "F1 --> 0.7703703703703704\n",
      "MCC --> 0.7700281940152865\n",
      "              precision    recall  f1-score   support\n",
      "\n",
      "           0       1.00      1.00      1.00     85307\n",
      "           1       0.78      0.76      0.77       136\n",
      "\n",
      "    accuracy                           1.00     85443\n",
      "   macro avg       0.89      0.88      0.89     85443\n",
      "weighted avg       1.00      1.00      1.00     85443\n",
      "\n"
     ]
    }
   ],
   "source": [
    "#printing\n",
    "print(\"\")\n",
    "print(\"Decision Tree\")\n",
    "print(\"Scores\")\n",
    "print(\"Accuracy -->\",dt_accuracy_score)\n",
    "print(\"Precison -->\",dt_precison_score)\n",
    "print(\"Recall -->\",dt_recall_score)\n",
    "print(\"F1 -->\",dt_f1_score)\n",
    "print(\"MCC -->\",dt_MCC)\n",
    "print(classification_report(y_test,y_test_pred))"
   ]
  },
  {
   "cell_type": "code",
   "execution_count": 39,
   "metadata": {},
   "outputs": [],
   "source": [
    "# Recall score from decision tree: 0.76; which is better than KNN"
   ]
  },
  {
   "cell_type": "markdown",
   "metadata": {},
   "source": [
    "Now trying with hypeparameters in Decision tree using Grid Search CV"
   ]
  },
  {
   "cell_type": "markdown",
   "metadata": {},
   "source": [
    "#### Using HyperParameter tuning in Decision tree"
   ]
  },
  {
   "cell_type": "code",
   "execution_count": 62,
   "metadata": {},
   "outputs": [],
   "source": [
    "from sklearn.model_selection import GridSearchCV"
   ]
  },
  {
   "cell_type": "code",
   "execution_count": 29,
   "metadata": {},
   "outputs": [],
   "source": [
    "params = {\n",
    "    'max_depth': [2, 3, 5, 10, 20],\n",
    "    'min_samples_leaf': [5, 10, 20, 50, 100],\n",
    "    'criterion': [\"gini\", \"entropy\"]\n",
    "}"
   ]
  },
  {
   "cell_type": "code",
   "execution_count": 30,
   "metadata": {},
   "outputs": [],
   "source": [
    "# Instantiate the grid search model\n",
    "grid_search = GridSearchCV(estimator=dt, \n",
    "                           param_grid=params, \n",
    "                           cv=4, n_jobs=-1, verbose=1, scoring = \"recall\")"
   ]
  },
  {
   "cell_type": "code",
   "execution_count": 31,
   "metadata": {},
   "outputs": [
    {
     "name": "stdout",
     "output_type": "stream",
     "text": [
      "Fitting 4 folds for each of 50 candidates, totalling 200 fits\n",
      "CPU times: user 4 s, sys: 275 ms, total: 4.28 s\n",
      "Wall time: 10min 20s\n"
     ]
    },
    {
     "data": {
      "text/plain": [
       "GridSearchCV(cv=4, estimator=DecisionTreeClassifier(max_depth=3), n_jobs=-1,\n",
       "             param_grid={'criterion': ['gini', 'entropy'],\n",
       "                         'max_depth': [2, 3, 5, 10, 20],\n",
       "                         'min_samples_leaf': [5, 10, 20, 50, 100]},\n",
       "             scoring='recall', verbose=1)"
      ]
     },
     "execution_count": 31,
     "metadata": {},
     "output_type": "execute_result"
    }
   ],
   "source": [
    "%%time\n",
    "grid_search.fit(X_train, y_train)"
   ]
  },
  {
   "cell_type": "code",
   "execution_count": 32,
   "metadata": {},
   "outputs": [],
   "source": [
    "dt_best = grid_search.best_estimator_"
   ]
  },
  {
   "cell_type": "code",
   "execution_count": 33,
   "metadata": {},
   "outputs": [
    {
     "data": {
      "text/plain": [
       "DecisionTreeClassifier(criterion='entropy', max_depth=3, min_samples_leaf=5)"
      ]
     },
     "execution_count": 33,
     "metadata": {},
     "output_type": "execute_result"
    }
   ],
   "source": [
    "dt_best"
   ]
  },
  {
   "cell_type": "code",
   "execution_count": 34,
   "metadata": {},
   "outputs": [
    {
     "data": {
      "text/html": [
       "<div>\n",
       "<style scoped>\n",
       "    .dataframe tbody tr th:only-of-type {\n",
       "        vertical-align: middle;\n",
       "    }\n",
       "\n",
       "    .dataframe tbody tr th {\n",
       "        vertical-align: top;\n",
       "    }\n",
       "\n",
       "    .dataframe thead th {\n",
       "        text-align: right;\n",
       "    }\n",
       "</style>\n",
       "<table border=\"1\" class=\"dataframe\">\n",
       "  <thead>\n",
       "    <tr style=\"text-align: right;\">\n",
       "      <th></th>\n",
       "      <th>mean_fit_time</th>\n",
       "      <th>std_fit_time</th>\n",
       "      <th>mean_score_time</th>\n",
       "      <th>std_score_time</th>\n",
       "      <th>param_criterion</th>\n",
       "      <th>param_max_depth</th>\n",
       "      <th>param_min_samples_leaf</th>\n",
       "      <th>params</th>\n",
       "      <th>split0_test_score</th>\n",
       "      <th>split1_test_score</th>\n",
       "      <th>split2_test_score</th>\n",
       "      <th>split3_test_score</th>\n",
       "      <th>mean_test_score</th>\n",
       "      <th>std_test_score</th>\n",
       "      <th>rank_test_score</th>\n",
       "    </tr>\n",
       "  </thead>\n",
       "  <tbody>\n",
       "    <tr>\n",
       "      <th>0</th>\n",
       "      <td>1.796742</td>\n",
       "      <td>0.041833</td>\n",
       "      <td>0.032028</td>\n",
       "      <td>0.012127</td>\n",
       "      <td>gini</td>\n",
       "      <td>2</td>\n",
       "      <td>5</td>\n",
       "      <td>{'criterion': 'gini', 'max_depth': 2, 'min_sam...</td>\n",
       "      <td>0.696629</td>\n",
       "      <td>0.707865</td>\n",
       "      <td>0.775281</td>\n",
       "      <td>0.730337</td>\n",
       "      <td>0.727528</td>\n",
       "      <td>0.030123</td>\n",
       "      <td>14</td>\n",
       "    </tr>\n",
       "    <tr>\n",
       "      <th>1</th>\n",
       "      <td>1.919811</td>\n",
       "      <td>0.134560</td>\n",
       "      <td>0.024244</td>\n",
       "      <td>0.001902</td>\n",
       "      <td>gini</td>\n",
       "      <td>2</td>\n",
       "      <td>10</td>\n",
       "      <td>{'criterion': 'gini', 'max_depth': 2, 'min_sam...</td>\n",
       "      <td>0.696629</td>\n",
       "      <td>0.707865</td>\n",
       "      <td>0.775281</td>\n",
       "      <td>0.730337</td>\n",
       "      <td>0.727528</td>\n",
       "      <td>0.030123</td>\n",
       "      <td>14</td>\n",
       "    </tr>\n",
       "    <tr>\n",
       "      <th>2</th>\n",
       "      <td>1.944666</td>\n",
       "      <td>0.188632</td>\n",
       "      <td>0.023028</td>\n",
       "      <td>0.000299</td>\n",
       "      <td>gini</td>\n",
       "      <td>2</td>\n",
       "      <td>20</td>\n",
       "      <td>{'criterion': 'gini', 'max_depth': 2, 'min_sam...</td>\n",
       "      <td>0.685393</td>\n",
       "      <td>0.707865</td>\n",
       "      <td>0.764045</td>\n",
       "      <td>0.730337</td>\n",
       "      <td>0.721910</td>\n",
       "      <td>0.029056</td>\n",
       "      <td>20</td>\n",
       "    </tr>\n",
       "    <tr>\n",
       "      <th>3</th>\n",
       "      <td>1.937553</td>\n",
       "      <td>0.163534</td>\n",
       "      <td>0.030477</td>\n",
       "      <td>0.013683</td>\n",
       "      <td>gini</td>\n",
       "      <td>2</td>\n",
       "      <td>50</td>\n",
       "      <td>{'criterion': 'gini', 'max_depth': 2, 'min_sam...</td>\n",
       "      <td>0.719101</td>\n",
       "      <td>0.741573</td>\n",
       "      <td>0.606742</td>\n",
       "      <td>0.775281</td>\n",
       "      <td>0.710674</td>\n",
       "      <td>0.063249</td>\n",
       "      <td>26</td>\n",
       "    </tr>\n",
       "    <tr>\n",
       "      <th>4</th>\n",
       "      <td>1.949457</td>\n",
       "      <td>0.197496</td>\n",
       "      <td>0.022819</td>\n",
       "      <td>0.000833</td>\n",
       "      <td>gini</td>\n",
       "      <td>2</td>\n",
       "      <td>100</td>\n",
       "      <td>{'criterion': 'gini', 'max_depth': 2, 'min_sam...</td>\n",
       "      <td>0.662921</td>\n",
       "      <td>0.539326</td>\n",
       "      <td>0.696629</td>\n",
       "      <td>0.685393</td>\n",
       "      <td>0.646067</td>\n",
       "      <td>0.062811</td>\n",
       "      <td>46</td>\n",
       "    </tr>\n",
       "  </tbody>\n",
       "</table>\n",
       "</div>"
      ],
      "text/plain": [
       "   mean_fit_time  std_fit_time  mean_score_time  std_score_time  \\\n",
       "0       1.796742      0.041833         0.032028        0.012127   \n",
       "1       1.919811      0.134560         0.024244        0.001902   \n",
       "2       1.944666      0.188632         0.023028        0.000299   \n",
       "3       1.937553      0.163534         0.030477        0.013683   \n",
       "4       1.949457      0.197496         0.022819        0.000833   \n",
       "\n",
       "  param_criterion param_max_depth param_min_samples_leaf  \\\n",
       "0            gini               2                      5   \n",
       "1            gini               2                     10   \n",
       "2            gini               2                     20   \n",
       "3            gini               2                     50   \n",
       "4            gini               2                    100   \n",
       "\n",
       "                                              params  split0_test_score  \\\n",
       "0  {'criterion': 'gini', 'max_depth': 2, 'min_sam...           0.696629   \n",
       "1  {'criterion': 'gini', 'max_depth': 2, 'min_sam...           0.696629   \n",
       "2  {'criterion': 'gini', 'max_depth': 2, 'min_sam...           0.685393   \n",
       "3  {'criterion': 'gini', 'max_depth': 2, 'min_sam...           0.719101   \n",
       "4  {'criterion': 'gini', 'max_depth': 2, 'min_sam...           0.662921   \n",
       "\n",
       "   split1_test_score  split2_test_score  split3_test_score  mean_test_score  \\\n",
       "0           0.707865           0.775281           0.730337         0.727528   \n",
       "1           0.707865           0.775281           0.730337         0.727528   \n",
       "2           0.707865           0.764045           0.730337         0.721910   \n",
       "3           0.741573           0.606742           0.775281         0.710674   \n",
       "4           0.539326           0.696629           0.685393         0.646067   \n",
       "\n",
       "   std_test_score  rank_test_score  \n",
       "0        0.030123               14  \n",
       "1        0.030123               14  \n",
       "2        0.029056               20  \n",
       "3        0.063249               26  \n",
       "4        0.062811               46  "
      ]
     },
     "execution_count": 34,
     "metadata": {},
     "output_type": "execute_result"
    }
   ],
   "source": [
    "score_df = pd.DataFrame(grid_search.cv_results_)\n",
    "score_df.head()"
   ]
  },
  {
   "cell_type": "code",
   "execution_count": 35,
   "metadata": {},
   "outputs": [
    {
     "data": {
      "text/html": [
       "<div>\n",
       "<style scoped>\n",
       "    .dataframe tbody tr th:only-of-type {\n",
       "        vertical-align: middle;\n",
       "    }\n",
       "\n",
       "    .dataframe tbody tr th {\n",
       "        vertical-align: top;\n",
       "    }\n",
       "\n",
       "    .dataframe thead th {\n",
       "        text-align: right;\n",
       "    }\n",
       "</style>\n",
       "<table border=\"1\" class=\"dataframe\">\n",
       "  <thead>\n",
       "    <tr style=\"text-align: right;\">\n",
       "      <th></th>\n",
       "      <th>mean_fit_time</th>\n",
       "      <th>std_fit_time</th>\n",
       "      <th>mean_score_time</th>\n",
       "      <th>std_score_time</th>\n",
       "      <th>param_criterion</th>\n",
       "      <th>param_max_depth</th>\n",
       "      <th>param_min_samples_leaf</th>\n",
       "      <th>params</th>\n",
       "      <th>split0_test_score</th>\n",
       "      <th>split1_test_score</th>\n",
       "      <th>split2_test_score</th>\n",
       "      <th>split3_test_score</th>\n",
       "      <th>mean_test_score</th>\n",
       "      <th>std_test_score</th>\n",
       "      <th>rank_test_score</th>\n",
       "    </tr>\n",
       "  </thead>\n",
       "  <tbody>\n",
       "    <tr>\n",
       "      <th>30</th>\n",
       "      <td>3.742766</td>\n",
       "      <td>0.092376</td>\n",
       "      <td>0.024147</td>\n",
       "      <td>0.002743</td>\n",
       "      <td>entropy</td>\n",
       "      <td>3</td>\n",
       "      <td>5</td>\n",
       "      <td>{'criterion': 'entropy', 'max_depth': 3, 'min_...</td>\n",
       "      <td>0.752809</td>\n",
       "      <td>0.808989</td>\n",
       "      <td>0.797753</td>\n",
       "      <td>0.797753</td>\n",
       "      <td>0.789326</td>\n",
       "      <td>0.021576</td>\n",
       "      <td>1</td>\n",
       "    </tr>\n",
       "    <tr>\n",
       "      <th>31</th>\n",
       "      <td>3.641232</td>\n",
       "      <td>0.148711</td>\n",
       "      <td>0.028446</td>\n",
       "      <td>0.008691</td>\n",
       "      <td>entropy</td>\n",
       "      <td>3</td>\n",
       "      <td>10</td>\n",
       "      <td>{'criterion': 'entropy', 'max_depth': 3, 'min_...</td>\n",
       "      <td>0.741573</td>\n",
       "      <td>0.808989</td>\n",
       "      <td>0.797753</td>\n",
       "      <td>0.797753</td>\n",
       "      <td>0.786517</td>\n",
       "      <td>0.026351</td>\n",
       "      <td>2</td>\n",
       "    </tr>\n",
       "    <tr>\n",
       "      <th>32</th>\n",
       "      <td>3.715445</td>\n",
       "      <td>0.073843</td>\n",
       "      <td>0.022296</td>\n",
       "      <td>0.000587</td>\n",
       "      <td>entropy</td>\n",
       "      <td>3</td>\n",
       "      <td>20</td>\n",
       "      <td>{'criterion': 'entropy', 'max_depth': 3, 'min_...</td>\n",
       "      <td>0.752809</td>\n",
       "      <td>0.752809</td>\n",
       "      <td>0.719101</td>\n",
       "      <td>0.820225</td>\n",
       "      <td>0.761236</td>\n",
       "      <td>0.036732</td>\n",
       "      <td>3</td>\n",
       "    </tr>\n",
       "    <tr>\n",
       "      <th>45</th>\n",
       "      <td>8.162256</td>\n",
       "      <td>0.886144</td>\n",
       "      <td>0.023376</td>\n",
       "      <td>0.000878</td>\n",
       "      <td>entropy</td>\n",
       "      <td>20</td>\n",
       "      <td>5</td>\n",
       "      <td>{'criterion': 'entropy', 'max_depth': 20, 'min...</td>\n",
       "      <td>0.741573</td>\n",
       "      <td>0.764045</td>\n",
       "      <td>0.741573</td>\n",
       "      <td>0.775281</td>\n",
       "      <td>0.755618</td>\n",
       "      <td>0.014596</td>\n",
       "      <td>4</td>\n",
       "    </tr>\n",
       "    <tr>\n",
       "      <th>40</th>\n",
       "      <td>8.140821</td>\n",
       "      <td>0.800571</td>\n",
       "      <td>0.033955</td>\n",
       "      <td>0.017544</td>\n",
       "      <td>entropy</td>\n",
       "      <td>10</td>\n",
       "      <td>5</td>\n",
       "      <td>{'criterion': 'entropy', 'max_depth': 10, 'min...</td>\n",
       "      <td>0.741573</td>\n",
       "      <td>0.752809</td>\n",
       "      <td>0.730337</td>\n",
       "      <td>0.775281</td>\n",
       "      <td>0.750000</td>\n",
       "      <td>0.016618</td>\n",
       "      <td>5</td>\n",
       "    </tr>\n",
       "  </tbody>\n",
       "</table>\n",
       "</div>"
      ],
      "text/plain": [
       "    mean_fit_time  std_fit_time  mean_score_time  std_score_time  \\\n",
       "30       3.742766      0.092376         0.024147        0.002743   \n",
       "31       3.641232      0.148711         0.028446        0.008691   \n",
       "32       3.715445      0.073843         0.022296        0.000587   \n",
       "45       8.162256      0.886144         0.023376        0.000878   \n",
       "40       8.140821      0.800571         0.033955        0.017544   \n",
       "\n",
       "   param_criterion param_max_depth param_min_samples_leaf  \\\n",
       "30         entropy               3                      5   \n",
       "31         entropy               3                     10   \n",
       "32         entropy               3                     20   \n",
       "45         entropy              20                      5   \n",
       "40         entropy              10                      5   \n",
       "\n",
       "                                               params  split0_test_score  \\\n",
       "30  {'criterion': 'entropy', 'max_depth': 3, 'min_...           0.752809   \n",
       "31  {'criterion': 'entropy', 'max_depth': 3, 'min_...           0.741573   \n",
       "32  {'criterion': 'entropy', 'max_depth': 3, 'min_...           0.752809   \n",
       "45  {'criterion': 'entropy', 'max_depth': 20, 'min...           0.741573   \n",
       "40  {'criterion': 'entropy', 'max_depth': 10, 'min...           0.741573   \n",
       "\n",
       "    split1_test_score  split2_test_score  split3_test_score  mean_test_score  \\\n",
       "30           0.808989           0.797753           0.797753         0.789326   \n",
       "31           0.808989           0.797753           0.797753         0.786517   \n",
       "32           0.752809           0.719101           0.820225         0.761236   \n",
       "45           0.764045           0.741573           0.775281         0.755618   \n",
       "40           0.752809           0.730337           0.775281         0.750000   \n",
       "\n",
       "    std_test_score  rank_test_score  \n",
       "30        0.021576                1  \n",
       "31        0.026351                2  \n",
       "32        0.036732                3  \n",
       "45        0.014596                4  \n",
       "40        0.016618                5  "
      ]
     },
     "execution_count": 35,
     "metadata": {},
     "output_type": "execute_result"
    }
   ],
   "source": [
    "score_df.nlargest(5,\"mean_test_score\")"
   ]
  },
  {
   "cell_type": "code",
   "execution_count": 36,
   "metadata": {},
   "outputs": [
    {
     "data": {
      "text/plain": [
       "DecisionTreeClassifier(criterion='entropy', max_depth=3, min_samples_leaf=5)"
      ]
     },
     "execution_count": 36,
     "metadata": {},
     "output_type": "execute_result"
    }
   ],
   "source": [
    "grid_search.best_estimator_"
   ]
  },
  {
   "cell_type": "code",
   "execution_count": 37,
   "metadata": {},
   "outputs": [
    {
     "name": "stdout",
     "output_type": "stream",
     "text": [
      "Train Recall : 0.8230337078651685\n",
      "Train Confusion Matrix:\n",
      "[[198944     64]\n",
      " [    63    293]]\n",
      "--------------------------------------------------\n",
      "Test Recall : 0.8529411764705882\n",
      "Test Confusion Matrix:\n",
      "[[85272    35]\n",
      " [   20   116]]\n"
     ]
    }
   ],
   "source": [
    "evaluate_model(dt_best)"
   ]
  },
  {
   "cell_type": "code",
   "execution_count": 32,
   "metadata": {},
   "outputs": [],
   "source": [
    "from sklearn.metrics import classification_report"
   ]
  },
  {
   "cell_type": "code",
   "execution_count": 39,
   "metadata": {},
   "outputs": [],
   "source": [
    "#scoring DT with HyperParameters\n",
    "dt_hyp_accuracy_score  = accuracy_score(y_test,dt_best.predict(X_test))\n",
    "dt_hyp_precison_score  = precision_score(y_test,dt_best.predict(X_test))\n",
    "dt_hyp_recall_score    = recall_score(y_test,dt_best.predict(X_test))\n",
    "dt_hyp_f1_score        = f1_score(y_test,dt_best.predict(X_test))\n",
    "dt_hyp_MCC             = matthews_corrcoef(y_test,dt_best.predict(X_test))\n"
   ]
  },
  {
   "cell_type": "code",
   "execution_count": 40,
   "metadata": {},
   "outputs": [
    {
     "name": "stdout",
     "output_type": "stream",
     "text": [
      "\n",
      "Decision Tree with HyperParameters\n",
      "Scores\n",
      "Accuracy --> 0.9993562960102056\n",
      "Precison --> 0.7682119205298014\n",
      "Recall --> 0.8529411764705882\n",
      "F1 --> 0.8083623693379791\n",
      "MCC --> 0.8091504719964171\n",
      "              precision    recall  f1-score   support\n",
      "\n",
      "           0       1.00      1.00      1.00     85307\n",
      "           1       0.77      0.85      0.81       136\n",
      "\n",
      "    accuracy                           1.00     85443\n",
      "   macro avg       0.88      0.93      0.90     85443\n",
      "weighted avg       1.00      1.00      1.00     85443\n",
      "\n"
     ]
    }
   ],
   "source": [
    "#printing\n",
    "print(\"\")\n",
    "print(\"Decision Tree with HyperParameters\")\n",
    "print(\"Scores\")\n",
    "print(\"Accuracy -->\",dt_hyp_accuracy_score)\n",
    "print(\"Precison -->\",dt_hyp_precison_score)\n",
    "print(\"Recall -->\",dt_hyp_recall_score)\n",
    "print(\"F1 -->\",dt_hyp_f1_score)\n",
    "print(\"MCC -->\",dt_hyp_MCC)\n",
    "print(classification_report(y_test, dt_best.predict(X_test)))"
   ]
  },
  {
   "cell_type": "markdown",
   "metadata": {},
   "source": [
    "We see that the recall score has improved to 0.85 after using hyper parameter tuning"
   ]
  },
  {
   "cell_type": "code",
   "execution_count": 42,
   "metadata": {},
   "outputs": [
    {
     "name": "stdout",
     "output_type": "stream",
     "text": [
      "AUC on train data by Decision tree = 0.9508075221638653\n"
     ]
    }
   ],
   "source": [
    "from sklearn import metrics\n",
    "print('AUC on train data by Decision tree =', metrics.roc_auc_score(y_true=y_train,\n",
    "                                                              y_score=dt_best.predict_proba(X_train)[:, 1]))"
   ]
  },
  {
   "cell_type": "code",
   "execution_count": 44,
   "metadata": {},
   "outputs": [
    {
     "name": "stdout",
     "output_type": "stream",
     "text": [
      "AUC on test data by Decision tree = 0.9536500607839229\n"
     ]
    }
   ],
   "source": [
    "\n",
    "print('AUC on test data by Decision tree =', metrics.roc_auc_score(y_true=y_test,\n",
    "                                                              y_score=dt_best.predict_proba(X_test)[:, 1]))"
   ]
  },
  {
   "cell_type": "markdown",
   "metadata": {},
   "source": [
    "#### Using Random Forest Classifier\n",
    "Trying to improve the recall score by using Random forest hyper parameter tuning"
   ]
  },
  {
   "cell_type": "code",
   "execution_count": 9,
   "metadata": {},
   "outputs": [],
   "source": [
    "from sklearn.ensemble import RandomForestClassifier"
   ]
  },
  {
   "cell_type": "code",
   "execution_count": 10,
   "metadata": {},
   "outputs": [],
   "source": [
    "rf = RandomForestClassifier(random_state = 42, max_depth = 3, n_estimators = 10)"
   ]
  },
  {
   "cell_type": "code",
   "execution_count": 11,
   "metadata": {},
   "outputs": [
    {
     "data": {
      "text/plain": [
       "RandomForestClassifier(max_depth=3, n_estimators=10, random_state=42)"
      ]
     },
     "execution_count": 11,
     "metadata": {},
     "output_type": "execute_result"
    }
   ],
   "source": [
    "rf.fit(X_train, y_train)"
   ]
  },
  {
   "cell_type": "code",
   "execution_count": 52,
   "metadata": {},
   "outputs": [
    {
     "data": {
      "text/plain": [
       "[DecisionTreeClassifier(max_depth=3, max_features='auto',\n",
       "                        random_state=1608637542),\n",
       " DecisionTreeClassifier(max_depth=3, max_features='auto',\n",
       "                        random_state=1273642419),\n",
       " DecisionTreeClassifier(max_depth=3, max_features='auto',\n",
       "                        random_state=1935803228),\n",
       " DecisionTreeClassifier(max_depth=3, max_features='auto', random_state=787846414),\n",
       " DecisionTreeClassifier(max_depth=3, max_features='auto', random_state=996406378),\n",
       " DecisionTreeClassifier(max_depth=3, max_features='auto',\n",
       "                        random_state=1201263687),\n",
       " DecisionTreeClassifier(max_depth=3, max_features='auto', random_state=423734972),\n",
       " DecisionTreeClassifier(max_depth=3, max_features='auto', random_state=415968276),\n",
       " DecisionTreeClassifier(max_depth=3, max_features='auto', random_state=670094950),\n",
       " DecisionTreeClassifier(max_depth=3, max_features='auto',\n",
       "                        random_state=1914837113)]"
      ]
     },
     "execution_count": 52,
     "metadata": {},
     "output_type": "execute_result"
    }
   ],
   "source": [
    "rf.estimators_"
   ]
  },
  {
   "cell_type": "code",
   "execution_count": null,
   "metadata": {},
   "outputs": [],
   "source": []
  },
  {
   "cell_type": "code",
   "execution_count": 53,
   "metadata": {},
   "outputs": [],
   "source": []
  },
  {
   "cell_type": "markdown",
   "metadata": {},
   "source": [
    "#### Grid Search for HyperParameter Tuning"
   ]
  },
  {
   "cell_type": "code",
   "execution_count": 10,
   "metadata": {},
   "outputs": [],
   "source": [
    "from sklearn.model_selection import GridSearchCV"
   ]
  },
  {
   "cell_type": "code",
   "execution_count": 13,
   "metadata": {},
   "outputs": [],
   "source": [
    "classifier_rf = RandomForestClassifier(random_state=42, n_jobs = -1)"
   ]
  },
  {
   "cell_type": "code",
   "execution_count": 14,
   "metadata": {},
   "outputs": [],
   "source": [
    "params = {\n",
    "    'max_depth': [5, 10, 20],\n",
    "    'min_samples_leaf': [5, 10, 20],\n",
    "    \n",
    "    'n_estimators': [100, 200]\n",
    "}"
   ]
  },
  {
   "cell_type": "code",
   "execution_count": 15,
   "metadata": {},
   "outputs": [],
   "source": [
    "# Instantiate the grid search model\n",
    "grid_search = GridSearchCV(estimator=classifier_rf, param_grid=params, \n",
    "                          cv=4, n_jobs=-1, verbose=1, scoring = \"recall\")"
   ]
  },
  {
   "cell_type": "code",
   "execution_count": 16,
   "metadata": {},
   "outputs": [
    {
     "name": "stdout",
     "output_type": "stream",
     "text": [
      "Fitting 4 folds for each of 18 candidates, totalling 72 fits\n",
      "CPU times: user 6min 34s, sys: 249 ms, total: 6min 34s\n",
      "Wall time: 44min 52s\n"
     ]
    },
    {
     "data": {
      "text/plain": [
       "GridSearchCV(cv=4, estimator=RandomForestClassifier(n_jobs=-1, random_state=42),\n",
       "             n_jobs=-1,\n",
       "             param_grid={'max_depth': [5, 10, 20],\n",
       "                         'min_samples_leaf': [5, 10, 20],\n",
       "                         'n_estimators': [100, 200]},\n",
       "             scoring='recall', verbose=1)"
      ]
     },
     "execution_count": 16,
     "metadata": {},
     "output_type": "execute_result"
    }
   ],
   "source": [
    "%%time\n",
    "grid_search.fit(X,y)"
   ]
  },
  {
   "cell_type": "code",
   "execution_count": 27,
   "metadata": {},
   "outputs": [],
   "source": [
    "rf_hyp_best = grid_search.best_estimator_"
   ]
  },
  {
   "cell_type": "code",
   "execution_count": 28,
   "metadata": {},
   "outputs": [
    {
     "data": {
      "text/plain": [
       "RandomForestClassifier(max_depth=20, min_samples_leaf=5, n_jobs=-1,\n",
       "                       random_state=42)"
      ]
     },
     "execution_count": 28,
     "metadata": {},
     "output_type": "execute_result"
    }
   ],
   "source": [
    "rf_hyp_best"
   ]
  },
  {
   "cell_type": "code",
   "execution_count": 29,
   "metadata": {},
   "outputs": [
    {
     "data": {
      "text/html": [
       "<div>\n",
       "<style scoped>\n",
       "    .dataframe tbody tr th:only-of-type {\n",
       "        vertical-align: middle;\n",
       "    }\n",
       "\n",
       "    .dataframe tbody tr th {\n",
       "        vertical-align: top;\n",
       "    }\n",
       "\n",
       "    .dataframe thead th {\n",
       "        text-align: right;\n",
       "    }\n",
       "</style>\n",
       "<table border=\"1\" class=\"dataframe\">\n",
       "  <thead>\n",
       "    <tr style=\"text-align: right;\">\n",
       "      <th></th>\n",
       "      <th>mean_fit_time</th>\n",
       "      <th>std_fit_time</th>\n",
       "      <th>mean_score_time</th>\n",
       "      <th>std_score_time</th>\n",
       "      <th>param_max_depth</th>\n",
       "      <th>param_min_samples_leaf</th>\n",
       "      <th>param_n_estimators</th>\n",
       "      <th>params</th>\n",
       "      <th>split0_test_score</th>\n",
       "      <th>split1_test_score</th>\n",
       "      <th>split2_test_score</th>\n",
       "      <th>split3_test_score</th>\n",
       "      <th>mean_test_score</th>\n",
       "      <th>std_test_score</th>\n",
       "      <th>rank_test_score</th>\n",
       "    </tr>\n",
       "  </thead>\n",
       "  <tbody>\n",
       "    <tr>\n",
       "      <th>0</th>\n",
       "      <td>100.135139</td>\n",
       "      <td>0.702435</td>\n",
       "      <td>0.733072</td>\n",
       "      <td>0.062236</td>\n",
       "      <td>5</td>\n",
       "      <td>5</td>\n",
       "      <td>100</td>\n",
       "      <td>{'max_depth': 5, 'min_samples_leaf': 5, 'n_est...</td>\n",
       "      <td>0.837398</td>\n",
       "      <td>0.658537</td>\n",
       "      <td>0.780488</td>\n",
       "      <td>0.504065</td>\n",
       "      <td>0.695122</td>\n",
       "      <td>0.127839</td>\n",
       "      <td>9</td>\n",
       "    </tr>\n",
       "    <tr>\n",
       "      <th>1</th>\n",
       "      <td>196.666615</td>\n",
       "      <td>0.359296</td>\n",
       "      <td>0.937551</td>\n",
       "      <td>0.024784</td>\n",
       "      <td>5</td>\n",
       "      <td>5</td>\n",
       "      <td>200</td>\n",
       "      <td>{'max_depth': 5, 'min_samples_leaf': 5, 'n_est...</td>\n",
       "      <td>0.837398</td>\n",
       "      <td>0.658537</td>\n",
       "      <td>0.772358</td>\n",
       "      <td>0.495935</td>\n",
       "      <td>0.691057</td>\n",
       "      <td>0.129572</td>\n",
       "      <td>12</td>\n",
       "    </tr>\n",
       "    <tr>\n",
       "      <th>2</th>\n",
       "      <td>98.026132</td>\n",
       "      <td>0.639400</td>\n",
       "      <td>0.682440</td>\n",
       "      <td>0.043305</td>\n",
       "      <td>5</td>\n",
       "      <td>10</td>\n",
       "      <td>100</td>\n",
       "      <td>{'max_depth': 5, 'min_samples_leaf': 10, 'n_es...</td>\n",
       "      <td>0.829268</td>\n",
       "      <td>0.601626</td>\n",
       "      <td>0.772358</td>\n",
       "      <td>0.487805</td>\n",
       "      <td>0.672764</td>\n",
       "      <td>0.135723</td>\n",
       "      <td>16</td>\n",
       "    </tr>\n",
       "    <tr>\n",
       "      <th>3</th>\n",
       "      <td>192.962825</td>\n",
       "      <td>0.942628</td>\n",
       "      <td>1.136853</td>\n",
       "      <td>0.070302</td>\n",
       "      <td>5</td>\n",
       "      <td>10</td>\n",
       "      <td>200</td>\n",
       "      <td>{'max_depth': 5, 'min_samples_leaf': 10, 'n_es...</td>\n",
       "      <td>0.837398</td>\n",
       "      <td>0.617886</td>\n",
       "      <td>0.772358</td>\n",
       "      <td>0.487805</td>\n",
       "      <td>0.678862</td>\n",
       "      <td>0.136103</td>\n",
       "      <td>15</td>\n",
       "    </tr>\n",
       "    <tr>\n",
       "      <th>4</th>\n",
       "      <td>100.562516</td>\n",
       "      <td>0.468187</td>\n",
       "      <td>0.681331</td>\n",
       "      <td>0.077589</td>\n",
       "      <td>5</td>\n",
       "      <td>20</td>\n",
       "      <td>100</td>\n",
       "      <td>{'max_depth': 5, 'min_samples_leaf': 20, 'n_es...</td>\n",
       "      <td>0.829268</td>\n",
       "      <td>0.585366</td>\n",
       "      <td>0.764228</td>\n",
       "      <td>0.471545</td>\n",
       "      <td>0.662602</td>\n",
       "      <td>0.141928</td>\n",
       "      <td>18</td>\n",
       "    </tr>\n",
       "  </tbody>\n",
       "</table>\n",
       "</div>"
      ],
      "text/plain": [
       "   mean_fit_time  std_fit_time  mean_score_time  std_score_time  \\\n",
       "0     100.135139      0.702435         0.733072        0.062236   \n",
       "1     196.666615      0.359296         0.937551        0.024784   \n",
       "2      98.026132      0.639400         0.682440        0.043305   \n",
       "3     192.962825      0.942628         1.136853        0.070302   \n",
       "4     100.562516      0.468187         0.681331        0.077589   \n",
       "\n",
       "  param_max_depth param_min_samples_leaf param_n_estimators  \\\n",
       "0               5                      5                100   \n",
       "1               5                      5                200   \n",
       "2               5                     10                100   \n",
       "3               5                     10                200   \n",
       "4               5                     20                100   \n",
       "\n",
       "                                              params  split0_test_score  \\\n",
       "0  {'max_depth': 5, 'min_samples_leaf': 5, 'n_est...           0.837398   \n",
       "1  {'max_depth': 5, 'min_samples_leaf': 5, 'n_est...           0.837398   \n",
       "2  {'max_depth': 5, 'min_samples_leaf': 10, 'n_es...           0.829268   \n",
       "3  {'max_depth': 5, 'min_samples_leaf': 10, 'n_es...           0.837398   \n",
       "4  {'max_depth': 5, 'min_samples_leaf': 20, 'n_es...           0.829268   \n",
       "\n",
       "   split1_test_score  split2_test_score  split3_test_score  mean_test_score  \\\n",
       "0           0.658537           0.780488           0.504065         0.695122   \n",
       "1           0.658537           0.772358           0.495935         0.691057   \n",
       "2           0.601626           0.772358           0.487805         0.672764   \n",
       "3           0.617886           0.772358           0.487805         0.678862   \n",
       "4           0.585366           0.764228           0.471545         0.662602   \n",
       "\n",
       "   std_test_score  rank_test_score  \n",
       "0        0.127839                9  \n",
       "1        0.129572               12  \n",
       "2        0.135723               16  \n",
       "3        0.136103               15  \n",
       "4        0.141928               18  "
      ]
     },
     "execution_count": 29,
     "metadata": {},
     "output_type": "execute_result"
    }
   ],
   "source": [
    "score_df = pd.DataFrame(grid_search.cv_results_)\n",
    "score_df.head()"
   ]
  },
  {
   "cell_type": "code",
   "execution_count": 30,
   "metadata": {},
   "outputs": [
    {
     "data": {
      "text/html": [
       "<div>\n",
       "<style scoped>\n",
       "    .dataframe tbody tr th:only-of-type {\n",
       "        vertical-align: middle;\n",
       "    }\n",
       "\n",
       "    .dataframe tbody tr th {\n",
       "        vertical-align: top;\n",
       "    }\n",
       "\n",
       "    .dataframe thead th {\n",
       "        text-align: right;\n",
       "    }\n",
       "</style>\n",
       "<table border=\"1\" class=\"dataframe\">\n",
       "  <thead>\n",
       "    <tr style=\"text-align: right;\">\n",
       "      <th></th>\n",
       "      <th>mean_fit_time</th>\n",
       "      <th>std_fit_time</th>\n",
       "      <th>mean_score_time</th>\n",
       "      <th>std_score_time</th>\n",
       "      <th>param_max_depth</th>\n",
       "      <th>param_min_samples_leaf</th>\n",
       "      <th>param_n_estimators</th>\n",
       "      <th>params</th>\n",
       "      <th>split0_test_score</th>\n",
       "      <th>split1_test_score</th>\n",
       "      <th>split2_test_score</th>\n",
       "      <th>split3_test_score</th>\n",
       "      <th>mean_test_score</th>\n",
       "      <th>std_test_score</th>\n",
       "      <th>rank_test_score</th>\n",
       "    </tr>\n",
       "  </thead>\n",
       "  <tbody>\n",
       "    <tr>\n",
       "      <th>12</th>\n",
       "      <td>303.401726</td>\n",
       "      <td>12.119144</td>\n",
       "      <td>1.179190</td>\n",
       "      <td>0.137626</td>\n",
       "      <td>20</td>\n",
       "      <td>5</td>\n",
       "      <td>100</td>\n",
       "      <td>{'max_depth': 20, 'min_samples_leaf': 5, 'n_es...</td>\n",
       "      <td>0.869919</td>\n",
       "      <td>0.682927</td>\n",
       "      <td>0.804878</td>\n",
       "      <td>0.634146</td>\n",
       "      <td>0.747967</td>\n",
       "      <td>0.093937</td>\n",
       "      <td>1</td>\n",
       "    </tr>\n",
       "    <tr>\n",
       "      <th>6</th>\n",
       "      <td>194.783546</td>\n",
       "      <td>1.133388</td>\n",
       "      <td>0.885791</td>\n",
       "      <td>0.113976</td>\n",
       "      <td>10</td>\n",
       "      <td>5</td>\n",
       "      <td>100</td>\n",
       "      <td>{'max_depth': 10, 'min_samples_leaf': 5, 'n_es...</td>\n",
       "      <td>0.869919</td>\n",
       "      <td>0.682927</td>\n",
       "      <td>0.804878</td>\n",
       "      <td>0.626016</td>\n",
       "      <td>0.745935</td>\n",
       "      <td>0.096432</td>\n",
       "      <td>2</td>\n",
       "    </tr>\n",
       "    <tr>\n",
       "      <th>13</th>\n",
       "      <td>589.607669</td>\n",
       "      <td>28.839011</td>\n",
       "      <td>2.352763</td>\n",
       "      <td>0.212188</td>\n",
       "      <td>20</td>\n",
       "      <td>5</td>\n",
       "      <td>200</td>\n",
       "      <td>{'max_depth': 20, 'min_samples_leaf': 5, 'n_es...</td>\n",
       "      <td>0.869919</td>\n",
       "      <td>0.682927</td>\n",
       "      <td>0.796748</td>\n",
       "      <td>0.609756</td>\n",
       "      <td>0.739837</td>\n",
       "      <td>0.100399</td>\n",
       "      <td>3</td>\n",
       "    </tr>\n",
       "    <tr>\n",
       "      <th>7</th>\n",
       "      <td>376.466314</td>\n",
       "      <td>1.157203</td>\n",
       "      <td>1.446675</td>\n",
       "      <td>0.124606</td>\n",
       "      <td>10</td>\n",
       "      <td>5</td>\n",
       "      <td>200</td>\n",
       "      <td>{'max_depth': 10, 'min_samples_leaf': 5, 'n_es...</td>\n",
       "      <td>0.869919</td>\n",
       "      <td>0.682927</td>\n",
       "      <td>0.788618</td>\n",
       "      <td>0.609756</td>\n",
       "      <td>0.737805</td>\n",
       "      <td>0.099303</td>\n",
       "      <td>4</td>\n",
       "    </tr>\n",
       "    <tr>\n",
       "      <th>15</th>\n",
       "      <td>584.159879</td>\n",
       "      <td>24.035684</td>\n",
       "      <td>1.875178</td>\n",
       "      <td>0.216086</td>\n",
       "      <td>20</td>\n",
       "      <td>10</td>\n",
       "      <td>200</td>\n",
       "      <td>{'max_depth': 20, 'min_samples_leaf': 10, 'n_e...</td>\n",
       "      <td>0.869919</td>\n",
       "      <td>0.691057</td>\n",
       "      <td>0.788618</td>\n",
       "      <td>0.593496</td>\n",
       "      <td>0.735772</td>\n",
       "      <td>0.103718</td>\n",
       "      <td>5</td>\n",
       "    </tr>\n",
       "  </tbody>\n",
       "</table>\n",
       "</div>"
      ],
      "text/plain": [
       "    mean_fit_time  std_fit_time  mean_score_time  std_score_time  \\\n",
       "12     303.401726     12.119144         1.179190        0.137626   \n",
       "6      194.783546      1.133388         0.885791        0.113976   \n",
       "13     589.607669     28.839011         2.352763        0.212188   \n",
       "7      376.466314      1.157203         1.446675        0.124606   \n",
       "15     584.159879     24.035684         1.875178        0.216086   \n",
       "\n",
       "   param_max_depth param_min_samples_leaf param_n_estimators  \\\n",
       "12              20                      5                100   \n",
       "6               10                      5                100   \n",
       "13              20                      5                200   \n",
       "7               10                      5                200   \n",
       "15              20                     10                200   \n",
       "\n",
       "                                               params  split0_test_score  \\\n",
       "12  {'max_depth': 20, 'min_samples_leaf': 5, 'n_es...           0.869919   \n",
       "6   {'max_depth': 10, 'min_samples_leaf': 5, 'n_es...           0.869919   \n",
       "13  {'max_depth': 20, 'min_samples_leaf': 5, 'n_es...           0.869919   \n",
       "7   {'max_depth': 10, 'min_samples_leaf': 5, 'n_es...           0.869919   \n",
       "15  {'max_depth': 20, 'min_samples_leaf': 10, 'n_e...           0.869919   \n",
       "\n",
       "    split1_test_score  split2_test_score  split3_test_score  mean_test_score  \\\n",
       "12           0.682927           0.804878           0.634146         0.747967   \n",
       "6            0.682927           0.804878           0.626016         0.745935   \n",
       "13           0.682927           0.796748           0.609756         0.739837   \n",
       "7            0.682927           0.788618           0.609756         0.737805   \n",
       "15           0.691057           0.788618           0.593496         0.735772   \n",
       "\n",
       "    std_test_score  rank_test_score  \n",
       "12        0.093937                1  \n",
       "6         0.096432                2  \n",
       "13        0.100399                3  \n",
       "7         0.099303                4  \n",
       "15        0.103718                5  "
      ]
     },
     "execution_count": 30,
     "metadata": {},
     "output_type": "execute_result"
    }
   ],
   "source": [
    "score_df.nlargest(5,\"mean_test_score\")"
   ]
  },
  {
   "cell_type": "code",
   "execution_count": null,
   "metadata": {},
   "outputs": [],
   "source": []
  },
  {
   "cell_type": "code",
   "execution_count": 31,
   "metadata": {},
   "outputs": [
    {
     "name": "stdout",
     "output_type": "stream",
     "text": [
      "Train Recall : 0.8089887640449438\n",
      "Train Confusion Matrix:\n",
      "[[199000      8]\n",
      " [    68    288]]\n",
      "--------------------------------------------------\n",
      "Test Recall : 0.8529411764705882\n",
      "Test Confusion Matrix:\n",
      "[[85304     3]\n",
      " [   20   116]]\n"
     ]
    }
   ],
   "source": [
    "evaluate_model(rf_hyp_best)"
   ]
  },
  {
   "cell_type": "code",
   "execution_count": 22,
   "metadata": {},
   "outputs": [],
   "source": [
    "from sklearn.metrics import confusion_matrix,accuracy_score,precision_score,recall_score,f1_score,matthews_corrcoef,classification_report,roc_curve\n",
    "#scoring knn\n",
    "rf_hyp_accuracy_score  = accuracy_score(y_test,grid_search.predict(X_test))\n",
    "rf_hyp_precison_score  = precision_score(y_test,grid_search.predict(X_test))\n",
    "rf_hyp_recall_score    = recall_score(y_test,grid_search.predict(X_test))\n",
    "rf_hyp_f1_score        = f1_score(y_test,grid_search.predict(X_test))\n",
    "rf_hyp_MCC             = matthews_corrcoef(y_test,grid_search.predict(X_test))"
   ]
  },
  {
   "cell_type": "code",
   "execution_count": 26,
   "metadata": {},
   "outputs": [
    {
     "name": "stdout",
     "output_type": "stream",
     "text": [
      "\n",
      "Decision Tree with HyperParameters\n",
      "Scores\n",
      "Accuracy --> 0.9997308146951769\n",
      "Precison --> 0.9747899159663865\n",
      "Recall --> 0.8529411764705882\n",
      "F1 --> 0.9098039215686274\n",
      "MCC --> 0.9117040394157032\n",
      "              precision    recall  f1-score   support\n",
      "\n",
      "           0       1.00      1.00      1.00     85307\n",
      "           1       0.97      0.85      0.91       136\n",
      "\n",
      "    accuracy                           1.00     85443\n",
      "   macro avg       0.99      0.93      0.95     85443\n",
      "weighted avg       1.00      1.00      1.00     85443\n",
      "\n"
     ]
    }
   ],
   "source": [
    "#printing\n",
    "print(\"\")\n",
    "print(\"Decision Tree with HyperParameters\")\n",
    "print(\"Scores\")\n",
    "print(\"Accuracy -->\",rf_hyp_accuracy_score)\n",
    "print(\"Precison -->\",rf_hyp_precison_score)\n",
    "print(\"Recall -->\",rf_hyp_recall_score)\n",
    "print(\"F1 -->\",rf_hyp_f1_score)\n",
    "print(\"MCC -->\",rf_hyp_MCC)\n",
    "print(classification_report(y_test, grid_search.predict(X_test)))"
   ]
  },
  {
   "cell_type": "code",
   "execution_count": 40,
   "metadata": {},
   "outputs": [],
   "source": [
    "# The recall score using grid search in Random forest came as  0.85"
   ]
  },
  {
   "cell_type": "markdown",
   "metadata": {},
   "source": [
    "### XGBoost Classifier"
   ]
  },
  {
   "cell_type": "code",
   "execution_count": 58,
   "metadata": {},
   "outputs": [
    {
     "name": "stdout",
     "output_type": "stream",
     "text": [
      "Requirement already satisfied: xgboost in /mnt/disks/user/anaconda3/envs/cuda101/lib/python3.8/site-packages (1.4.2)\n",
      "Requirement already satisfied: numpy in /mnt/disks/user/anaconda3/envs/cuda101/lib/python3.8/site-packages (from xgboost) (1.20.2)\n",
      "Requirement already satisfied: scipy in /mnt/disks/user/anaconda3/envs/cuda101/lib/python3.8/site-packages (from xgboost) (1.6.3)\n",
      "Note: you may need to restart the kernel to use updated packages.\n"
     ]
    }
   ],
   "source": [
    "pip install xgboost"
   ]
  },
  {
   "cell_type": "code",
   "execution_count": 36,
   "metadata": {},
   "outputs": [
    {
     "name": "stdout",
     "output_type": "stream",
     "text": [
      "[07:47:26] WARNING: ../src/learner.cc:1095: Starting in XGBoost 1.3.0, the default evaluation metric used with the objective 'binary:logistic' was changed from 'error' to 'logloss'. Explicitly set eval_metric if you'd like to restore the old behavior.\n"
     ]
    },
    {
     "data": {
      "text/plain": [
       "XGBClassifier(base_score=0.5, booster='gbtree', colsample_bylevel=1,\n",
       "              colsample_bynode=1, colsample_bytree=1, gamma=0, gpu_id=-1,\n",
       "              importance_type='gain', interaction_constraints='',\n",
       "              learning_rate=0.300000012, max_delta_step=0, max_depth=6,\n",
       "              min_child_weight=1, missing=nan, monotone_constraints='()',\n",
       "              n_estimators=100, n_jobs=8, num_parallel_tree=1, random_state=0,\n",
       "              reg_alpha=0, reg_lambda=1, scale_pos_weight=1, subsample=1,\n",
       "              tree_method='exact', validate_parameters=1, verbosity=None)"
      ]
     },
     "execution_count": 36,
     "metadata": {},
     "output_type": "execute_result"
    }
   ],
   "source": [
    "import xgboost as xgb\n",
    "from sklearn import metrics\n",
    "\n",
    "xgclf = xgb.XGBClassifier()\n",
    "\n",
    "xgclf.fit(X_train, y_train)"
   ]
  },
  {
   "cell_type": "code",
   "execution_count": 9,
   "metadata": {},
   "outputs": [],
   "source": [
    "\n",
    "import numpy as np\n",
    "from xgboost import XGBClassifier\n",
    "from sklearn.model_selection import StratifiedKFold\n",
    "def xgboost_search(X, y, search_verbose=1):\n",
    "    params = {\n",
    "        \"gamma\":[0.5, 1, 1.5, 2, 5],\n",
    "        \"max_depth\":[3,4,5,6],\n",
    "        \"min_child_weight\": [3, 7, 11, 19, 25],\n",
    "        \"subsample\": [0.6, 0.8, 1.0],\n",
    "        \"colsample_bytree\": [0.6, 0.8, 1.0],\n",
    "        \"learning_rate\": [0.1, 0.2, 0.3, 0.4, 0.5]\n",
    "    }\n",
    "    xgb = XGBClassifier(objective=\"binary:logistic\", eval_metric=\"auc\", use_label_encoder=False)\n",
    "    skf = StratifiedKFold(n_splits=3, shuffle=True, random_state=1234)\n",
    "    grid_search = GridSearchCV(estimator=xgb, param_grid=params, scoring=\"roc_auc\", n_jobs=1, cv=skf.split(X,y), verbose=search_verbose)\n",
    "    grid_search.fit(X, y)\n",
    "    print(\"Best estimator: \")\n",
    "    print(grid_search.best_estimator_)\n",
    "    print(\"Parameters: \", grid_search.best_params_)\n",
    "    print(\"Highest AUC: %.2f\" % grid_search.best_score_)\n",
    "    return grid_search.best_params_"
   ]
  },
  {
   "cell_type": "code",
   "execution_count": 63,
   "metadata": {},
   "outputs": [
    {
     "name": "stdout",
     "output_type": "stream",
     "text": [
      "Fitting 3 folds for each of 4500 candidates, totalling 13500 fits\n",
      "Best estimator: \n",
      "XGBClassifier(base_score=0.5, booster='gbtree', colsample_bylevel=1,\n",
      "              colsample_bynode=1, colsample_bytree=1.0, eval_metric='auc',\n",
      "              gamma=0.5, gpu_id=-1, importance_type='gain',\n",
      "              interaction_constraints='', learning_rate=0.1, max_delta_step=0,\n",
      "              max_depth=3, min_child_weight=3, missing=nan,\n",
      "              monotone_constraints='()', n_estimators=100, n_jobs=8,\n",
      "              num_parallel_tree=1, random_state=0, reg_alpha=0, reg_lambda=1,\n",
      "              scale_pos_weight=1, subsample=0.6, tree_method='exact',\n",
      "              use_label_encoder=False, validate_parameters=1, verbosity=None)\n",
      "Parameters:  {'colsample_bytree': 1.0, 'gamma': 0.5, 'learning_rate': 0.1, 'max_depth': 3, 'min_child_weight': 3, 'subsample': 0.6}\n",
      "Highest AUC: 0.99\n"
     ]
    }
   ],
   "source": [
    "rows = random.sample(np.arange(0,len(X_train.index)).tolist(), 5000)\n",
    "model_params = xgboost_search(X_train.iloc[rows,], y_train.iloc[rows,])"
   ]
  },
  {
   "cell_type": "code",
   "execution_count": 19,
   "metadata": {},
   "outputs": [
    {
     "data": {
      "text/plain": [
       "XGBClassifier(base_score=0.5, booster='gbtree', colsample_bylevel=1,\n",
       "              colsample_bynode=1, colsample_bytree=0.6, eval_metric='auc',\n",
       "              gamma=0.5, gpu_id=-1, importance_type='gain',\n",
       "              interaction_constraints='', learning_rate=0.1, max_delta_step=0,\n",
       "              max_depth=3, min_child_weight=3, missing=nan,\n",
       "              monotone_constraints='()', n_estimators=100, n_jobs=2,\n",
       "              num_parallel_tree=1, random_state=0, reg_alpha=0, reg_lambda=1,\n",
       "              scale_pos_weight=1, subsample=0.6, tree_method='exact',\n",
       "              use_label_encoder=False, validate_parameters=1, verbosity=None)"
      ]
     },
     "execution_count": 19,
     "metadata": {},
     "output_type": "execute_result"
    }
   ],
   "source": [
    "model = XGBClassifier(objective=\"binary:logistic\", eval_metric=\"auc\", use_label_encoder=False)\n",
    "model.set_params(**model_params)\n",
    "model.fit(X_train, y_train)"
   ]
  },
  {
   "cell_type": "code",
   "execution_count": 24,
   "metadata": {},
   "outputs": [
    {
     "name": "stdout",
     "output_type": "stream",
     "text": [
      "Train Recall : 0.8202247191011236\n",
      "Train Confusion Matrix:\n",
      "[[199002      6]\n",
      " [    64    292]]\n",
      "--------------------------------------------------\n",
      "Test Recall : 0.7941176470588235\n",
      "Test Confusion Matrix:\n",
      "[[85302     5]\n",
      " [   28   108]]\n"
     ]
    }
   ],
   "source": [
    "evaluate_model(model)"
   ]
  },
  {
   "cell_type": "code",
   "execution_count": null,
   "metadata": {},
   "outputs": [],
   "source": []
  },
  {
   "cell_type": "markdown",
   "metadata": {},
   "source": [
    "### SMOTE Technique "
   ]
  },
  {
   "cell_type": "code",
   "execution_count": 27,
   "metadata": {},
   "outputs": [
    {
     "name": "stdout",
     "output_type": "stream",
     "text": [
      "Requirement already satisfied: imblearn in /mnt/disks/user/anaconda3/envs/cuda101/lib/python3.8/site-packages (0.0)\n",
      "Requirement already satisfied: imbalanced-learn in /mnt/disks/user/anaconda3/envs/cuda101/lib/python3.8/site-packages (from imblearn) (0.8.0)\n",
      "Requirement already satisfied: joblib>=0.11 in /mnt/disks/user/anaconda3/envs/cuda101/lib/python3.8/site-packages (from imbalanced-learn->imblearn) (1.0.1)\n",
      "Requirement already satisfied: numpy>=1.13.3 in /mnt/disks/user/anaconda3/envs/cuda101/lib/python3.8/site-packages (from imbalanced-learn->imblearn) (1.20.2)\n",
      "Requirement already satisfied: scipy>=0.19.1 in /mnt/disks/user/anaconda3/envs/cuda101/lib/python3.8/site-packages (from imbalanced-learn->imblearn) (1.6.3)\n",
      "Requirement already satisfied: scikit-learn>=0.24 in /mnt/disks/user/anaconda3/envs/cuda101/lib/python3.8/site-packages (from imbalanced-learn->imblearn) (0.24.2)\n",
      "Requirement already satisfied: threadpoolctl>=2.0.0 in /mnt/disks/user/anaconda3/envs/cuda101/lib/python3.8/site-packages (from scikit-learn>=0.24->imbalanced-learn->imblearn) (2.1.0)\n",
      "Note: you may need to restart the kernel to use updated packages.\n"
     ]
    }
   ],
   "source": [
    "pip install imblearn"
   ]
  },
  {
   "cell_type": "code",
   "execution_count": 29,
   "metadata": {},
   "outputs": [
    {
     "name": "stdout",
     "output_type": "stream",
     "text": [
      "Requirement already satisfied: Counter in /mnt/disks/user/anaconda3/envs/cuda101/lib/python3.8/site-packages (1.0.0)\n",
      "Note: you may need to restart the kernel to use updated packages.\n"
     ]
    }
   ],
   "source": [
    "pip install Counter"
   ]
  },
  {
   "cell_type": "code",
   "execution_count": 33,
   "metadata": {},
   "outputs": [],
   "source": [
    "from collections import Counter"
   ]
  },
  {
   "cell_type": "code",
   "execution_count": 34,
   "metadata": {},
   "outputs": [
    {
     "name": "stdout",
     "output_type": "stream",
     "text": [
      "Before  Counter({0: 199008, 1: 356})\n",
      "After  Counter({0: 199008, 1: 199008})\n"
     ]
    }
   ],
   "source": [
    "from imblearn.over_sampling import SMOTE\n",
    "counter = Counter(y_train)\n",
    "print('Before ', counter)\n",
    "smt = SMOTE()\n",
    "X_train_sm, y_train_sm = smt.fit_resample(X_train, y_train)\n",
    "counter = Counter(y_train_sm)\n",
    "print('After ', counter)"
   ]
  },
  {
   "cell_type": "markdown",
   "metadata": {},
   "source": [
    "### SMOTE on Random Forest"
   ]
  },
  {
   "cell_type": "code",
   "execution_count": 42,
   "metadata": {},
   "outputs": [],
   "source": [
    "from sklearn.model_selection import GridSearchCV\n",
    "from sklearn.ensemble import RandomForestClassifier"
   ]
  },
  {
   "cell_type": "code",
   "execution_count": 24,
   "metadata": {},
   "outputs": [],
   "source": [
    "classifier_rf = RandomForestClassifier(random_state=42, n_jobs = -1)"
   ]
  },
  {
   "cell_type": "code",
   "execution_count": 25,
   "metadata": {},
   "outputs": [],
   "source": [
    "params = {\n",
    "    'max_depth': [5, 10, 20],\n",
    "    'min_samples_leaf': [5, 10, 20],\n",
    "    \n",
    "    'n_estimators': [100, 200]\n",
    "}"
   ]
  },
  {
   "cell_type": "code",
   "execution_count": 26,
   "metadata": {},
   "outputs": [],
   "source": [
    "# Instantiate the grid search model\n",
    "grid_search = GridSearchCV(estimator=classifier_rf, param_grid=params, \n",
    "                          cv=4, n_jobs=-1, verbose=1, scoring = \"recall\")"
   ]
  },
  {
   "cell_type": "code",
   "execution_count": 32,
   "metadata": {},
   "outputs": [
    {
     "name": "stdout",
     "output_type": "stream",
     "text": [
      "Fitting 4 folds for each of 18 candidates, totalling 72 fits\n",
      "CPU times: user 15min 22s, sys: 564 ms, total: 15min 23s\n",
      "Wall time: 57min 43s\n"
     ]
    },
    {
     "data": {
      "text/plain": [
       "GridSearchCV(cv=4, estimator=RandomForestClassifier(n_jobs=-1, random_state=42),\n",
       "             n_jobs=-1,\n",
       "             param_grid={'max_depth': [5, 10, 20],\n",
       "                         'min_samples_leaf': [5, 10, 20],\n",
       "                         'n_estimators': [100, 200]},\n",
       "             scoring='recall', verbose=1)"
      ]
     },
     "execution_count": 32,
     "metadata": {},
     "output_type": "execute_result"
    }
   ],
   "source": [
    "%%time\n",
    "grid_search.fit(X_train_sm,y_train_sm)"
   ]
  },
  {
   "cell_type": "code",
   "execution_count": 33,
   "metadata": {},
   "outputs": [],
   "source": [
    "rf_hyp_best = grid_search.best_estimator_"
   ]
  },
  {
   "cell_type": "code",
   "execution_count": 34,
   "metadata": {},
   "outputs": [
    {
     "data": {
      "text/plain": [
       "RandomForestClassifier(max_depth=20, min_samples_leaf=5, n_estimators=200,\n",
       "                       n_jobs=-1, random_state=42)"
      ]
     },
     "execution_count": 34,
     "metadata": {},
     "output_type": "execute_result"
    }
   ],
   "source": [
    "rf_hyp_best"
   ]
  },
  {
   "cell_type": "code",
   "execution_count": 35,
   "metadata": {},
   "outputs": [
    {
     "data": {
      "text/html": [
       "<div>\n",
       "<style scoped>\n",
       "    .dataframe tbody tr th:only-of-type {\n",
       "        vertical-align: middle;\n",
       "    }\n",
       "\n",
       "    .dataframe tbody tr th {\n",
       "        vertical-align: top;\n",
       "    }\n",
       "\n",
       "    .dataframe thead th {\n",
       "        text-align: right;\n",
       "    }\n",
       "</style>\n",
       "<table border=\"1\" class=\"dataframe\">\n",
       "  <thead>\n",
       "    <tr style=\"text-align: right;\">\n",
       "      <th></th>\n",
       "      <th>mean_fit_time</th>\n",
       "      <th>std_fit_time</th>\n",
       "      <th>mean_score_time</th>\n",
       "      <th>std_score_time</th>\n",
       "      <th>param_max_depth</th>\n",
       "      <th>param_min_samples_leaf</th>\n",
       "      <th>param_n_estimators</th>\n",
       "      <th>params</th>\n",
       "      <th>split0_test_score</th>\n",
       "      <th>split1_test_score</th>\n",
       "      <th>split2_test_score</th>\n",
       "      <th>split3_test_score</th>\n",
       "      <th>mean_test_score</th>\n",
       "      <th>std_test_score</th>\n",
       "      <th>rank_test_score</th>\n",
       "    </tr>\n",
       "  </thead>\n",
       "  <tbody>\n",
       "    <tr>\n",
       "      <th>0</th>\n",
       "      <td>142.513797</td>\n",
       "      <td>0.660060</td>\n",
       "      <td>1.023347</td>\n",
       "      <td>0.089134</td>\n",
       "      <td>5</td>\n",
       "      <td>5</td>\n",
       "      <td>100</td>\n",
       "      <td>{'max_depth': 5, 'min_samples_leaf': 5, 'n_est...</td>\n",
       "      <td>0.918576</td>\n",
       "      <td>0.917049</td>\n",
       "      <td>0.915461</td>\n",
       "      <td>0.916586</td>\n",
       "      <td>0.916918</td>\n",
       "      <td>0.001118</td>\n",
       "      <td>13</td>\n",
       "    </tr>\n",
       "    <tr>\n",
       "      <th>1</th>\n",
       "      <td>276.215162</td>\n",
       "      <td>0.861889</td>\n",
       "      <td>1.639672</td>\n",
       "      <td>0.077892</td>\n",
       "      <td>5</td>\n",
       "      <td>5</td>\n",
       "      <td>200</td>\n",
       "      <td>{'max_depth': 5, 'min_samples_leaf': 5, 'n_est...</td>\n",
       "      <td>0.917993</td>\n",
       "      <td>0.916707</td>\n",
       "      <td>0.916084</td>\n",
       "      <td>0.916787</td>\n",
       "      <td>0.916893</td>\n",
       "      <td>0.000691</td>\n",
       "      <td>14</td>\n",
       "    </tr>\n",
       "    <tr>\n",
       "      <th>2</th>\n",
       "      <td>140.052802</td>\n",
       "      <td>0.334212</td>\n",
       "      <td>1.003719</td>\n",
       "      <td>0.048254</td>\n",
       "      <td>5</td>\n",
       "      <td>10</td>\n",
       "      <td>100</td>\n",
       "      <td>{'max_depth': 5, 'min_samples_leaf': 10, 'n_es...</td>\n",
       "      <td>0.918395</td>\n",
       "      <td>0.917169</td>\n",
       "      <td>0.915621</td>\n",
       "      <td>0.916325</td>\n",
       "      <td>0.916878</td>\n",
       "      <td>0.001033</td>\n",
       "      <td>15</td>\n",
       "    </tr>\n",
       "    <tr>\n",
       "      <th>3</th>\n",
       "      <td>274.106277</td>\n",
       "      <td>1.281741</td>\n",
       "      <td>1.870039</td>\n",
       "      <td>0.117532</td>\n",
       "      <td>5</td>\n",
       "      <td>10</td>\n",
       "      <td>200</td>\n",
       "      <td>{'max_depth': 5, 'min_samples_leaf': 10, 'n_es...</td>\n",
       "      <td>0.917752</td>\n",
       "      <td>0.917089</td>\n",
       "      <td>0.916084</td>\n",
       "      <td>0.916204</td>\n",
       "      <td>0.916782</td>\n",
       "      <td>0.000681</td>\n",
       "      <td>16</td>\n",
       "    </tr>\n",
       "    <tr>\n",
       "      <th>4</th>\n",
       "      <td>143.355845</td>\n",
       "      <td>1.003241</td>\n",
       "      <td>1.106353</td>\n",
       "      <td>0.092222</td>\n",
       "      <td>5</td>\n",
       "      <td>20</td>\n",
       "      <td>100</td>\n",
       "      <td>{'max_depth': 5, 'min_samples_leaf': 20, 'n_es...</td>\n",
       "      <td>0.918114</td>\n",
       "      <td>0.916385</td>\n",
       "      <td>0.915642</td>\n",
       "      <td>0.915883</td>\n",
       "      <td>0.916506</td>\n",
       "      <td>0.000966</td>\n",
       "      <td>18</td>\n",
       "    </tr>\n",
       "  </tbody>\n",
       "</table>\n",
       "</div>"
      ],
      "text/plain": [
       "   mean_fit_time  std_fit_time  mean_score_time  std_score_time  \\\n",
       "0     142.513797      0.660060         1.023347        0.089134   \n",
       "1     276.215162      0.861889         1.639672        0.077892   \n",
       "2     140.052802      0.334212         1.003719        0.048254   \n",
       "3     274.106277      1.281741         1.870039        0.117532   \n",
       "4     143.355845      1.003241         1.106353        0.092222   \n",
       "\n",
       "  param_max_depth param_min_samples_leaf param_n_estimators  \\\n",
       "0               5                      5                100   \n",
       "1               5                      5                200   \n",
       "2               5                     10                100   \n",
       "3               5                     10                200   \n",
       "4               5                     20                100   \n",
       "\n",
       "                                              params  split0_test_score  \\\n",
       "0  {'max_depth': 5, 'min_samples_leaf': 5, 'n_est...           0.918576   \n",
       "1  {'max_depth': 5, 'min_samples_leaf': 5, 'n_est...           0.917993   \n",
       "2  {'max_depth': 5, 'min_samples_leaf': 10, 'n_es...           0.918395   \n",
       "3  {'max_depth': 5, 'min_samples_leaf': 10, 'n_es...           0.917752   \n",
       "4  {'max_depth': 5, 'min_samples_leaf': 20, 'n_es...           0.918114   \n",
       "\n",
       "   split1_test_score  split2_test_score  split3_test_score  mean_test_score  \\\n",
       "0           0.917049           0.915461           0.916586         0.916918   \n",
       "1           0.916707           0.916084           0.916787         0.916893   \n",
       "2           0.917169           0.915621           0.916325         0.916878   \n",
       "3           0.917089           0.916084           0.916204         0.916782   \n",
       "4           0.916385           0.915642           0.915883         0.916506   \n",
       "\n",
       "   std_test_score  rank_test_score  \n",
       "0        0.001118               13  \n",
       "1        0.000691               14  \n",
       "2        0.001033               15  \n",
       "3        0.000681               16  \n",
       "4        0.000966               18  "
      ]
     },
     "execution_count": 35,
     "metadata": {},
     "output_type": "execute_result"
    }
   ],
   "source": [
    "score_df = pd.DataFrame(grid_search.cv_results_)\n",
    "score_df.head()"
   ]
  },
  {
   "cell_type": "code",
   "execution_count": 38,
   "metadata": {},
   "outputs": [
    {
     "name": "stdout",
     "output_type": "stream",
     "text": [
      "Train Recall : 1.0\n",
      "Train Confusion Matrix:\n",
      "[[198965     43]\n",
      " [     0    356]]\n",
      "--------------------------------------------------\n",
      "Test Recall : 0.8970588235294118\n",
      "Test Confusion Matrix:\n",
      "[[85275    32]\n",
      " [   14   122]]\n"
     ]
    }
   ],
   "source": [
    "evaluate_model(rf_hyp_best)"
   ]
  },
  {
   "cell_type": "code",
   "execution_count": 39,
   "metadata": {},
   "outputs": [],
   "source": [
    "from sklearn.metrics import confusion_matrix,accuracy_score,precision_score,recall_score,f1_score,matthews_corrcoef,classification_report,roc_curve\n",
    "#scoring knn\n",
    "rf_hyp_accuracy_score  = accuracy_score(y_test,rf_hyp_best.predict(X_test))\n",
    "rf_hyp_precison_score  = precision_score(y_test,rf_hyp_best.predict(X_test))\n",
    "rf_hyp_recall_score    = recall_score(y_test,rf_hyp_best.predict(X_test))\n",
    "rf_hyp_f1_score        = f1_score(y_test,rf_hyp_best.predict(X_test))\n",
    "rf_hyp_MCC             = matthews_corrcoef(y_test,rf_hyp_best.predict(X_test))"
   ]
  },
  {
   "cell_type": "code",
   "execution_count": 41,
   "metadata": {},
   "outputs": [
    {
     "name": "stdout",
     "output_type": "stream",
     "text": [
      "\n",
      "Random Forest with SMOTE and HyperParameters\n",
      "Scores\n",
      "Accuracy --> 0.9994616293903538\n",
      "Precison --> 0.7922077922077922\n",
      "Recall --> 0.8970588235294118\n",
      "F1 --> 0.8413793103448276\n",
      "MCC --> 0.8427411416337066\n",
      "              precision    recall  f1-score   support\n",
      "\n",
      "           0       1.00      1.00      1.00     85307\n",
      "           1       0.79      0.90      0.84       136\n",
      "\n",
      "    accuracy                           1.00     85443\n",
      "   macro avg       0.90      0.95      0.92     85443\n",
      "weighted avg       1.00      1.00      1.00     85443\n",
      "\n"
     ]
    }
   ],
   "source": [
    "#printing\n",
    "print(\"\")\n",
    "print(\"Random Forest with SMOTE and HyperParameters\")\n",
    "print(\"Scores\")\n",
    "print(\"Accuracy -->\",rf_hyp_accuracy_score)\n",
    "print(\"Precison -->\",rf_hyp_precison_score)\n",
    "print(\"Recall -->\",rf_hyp_recall_score)\n",
    "print(\"F1 -->\",rf_hyp_f1_score)\n",
    "print(\"MCC -->\",rf_hyp_MCC)\n",
    "print(classification_report(y_test, grid_search.predict(X_test)))"
   ]
  },
  {
   "cell_type": "markdown",
   "metadata": {},
   "source": [
    "### SMOTE on XGBoost"
   ]
  },
  {
   "cell_type": "code",
   "execution_count": 31,
   "metadata": {},
   "outputs": [],
   "source": []
  },
  {
   "cell_type": "code",
   "execution_count": 32,
   "metadata": {},
   "outputs": [],
   "source": []
  },
  {
   "cell_type": "code",
   "execution_count": 35,
   "metadata": {},
   "outputs": [
    {
     "name": "stdout",
     "output_type": "stream",
     "text": [
      "Fitting 3 folds for each of 4500 candidates, totalling 13500 fits\n",
      "Best estimator: \n",
      "XGBClassifier(base_score=0.5, booster='gbtree', colsample_bylevel=1,\n",
      "              colsample_bynode=1, colsample_bytree=0.6, eval_metric='auc',\n",
      "              gamma=0.5, gpu_id=-1, importance_type='gain',\n",
      "              interaction_constraints='', learning_rate=0.2, max_delta_step=0,\n",
      "              max_depth=4, min_child_weight=3, missing=nan,\n",
      "              monotone_constraints='()', n_estimators=100, n_jobs=8,\n",
      "              num_parallel_tree=1, random_state=0, reg_alpha=0, reg_lambda=1,\n",
      "              scale_pos_weight=1, subsample=0.8, tree_method='exact',\n",
      "              use_label_encoder=False, validate_parameters=1, verbosity=None)\n",
      "Parameters:  {'colsample_bytree': 0.6, 'gamma': 0.5, 'learning_rate': 0.2, 'max_depth': 4, 'min_child_weight': 3, 'subsample': 0.8}\n",
      "Highest AUC: 1.00\n"
     ]
    }
   ],
   "source": [
    "rows = random.sample(np.arange(0,len(X_train_sm.index)).tolist(), 5000)\n",
    "model_params = xgboost_search(X_train_sm.iloc[rows,], y_train_sm.iloc[rows,])"
   ]
  },
  {
   "cell_type": "code",
   "execution_count": 36,
   "metadata": {},
   "outputs": [
    {
     "data": {
      "text/plain": [
       "XGBClassifier(base_score=0.5, booster='gbtree', colsample_bylevel=1,\n",
       "              colsample_bynode=1, colsample_bytree=0.6, eval_metric='auc',\n",
       "              gamma=0.5, gpu_id=-1, importance_type='gain',\n",
       "              interaction_constraints='', learning_rate=0.2, max_delta_step=0,\n",
       "              max_depth=4, min_child_weight=3, missing=nan,\n",
       "              monotone_constraints='()', n_estimators=100, n_jobs=8,\n",
       "              num_parallel_tree=1, random_state=0, reg_alpha=0, reg_lambda=1,\n",
       "              scale_pos_weight=1, subsample=0.8, tree_method='exact',\n",
       "              use_label_encoder=False, validate_parameters=1, verbosity=None)"
      ]
     },
     "execution_count": 36,
     "metadata": {},
     "output_type": "execute_result"
    }
   ],
   "source": [
    "model = XGBClassifier(objective=\"binary:logistic\", eval_metric=\"auc\", use_label_encoder=False)\n",
    "model.set_params(**model_params)\n",
    "model.fit(X_train_sm, y_train_sm)"
   ]
  },
  {
   "cell_type": "code",
   "execution_count": 49,
   "metadata": {},
   "outputs": [
    {
     "name": "stdout",
     "output_type": "stream",
     "text": [
      "Train Recall : 0.9971910112359551\n",
      "Train Confusion Matrix:\n",
      "[[198687    321]\n",
      " [     1    355]]\n",
      "--------------------------------------------------\n",
      "Test Recall : 0.9191176470588235\n",
      "Test Confusion Matrix:\n",
      "[[85130   177]\n",
      " [   11   125]]\n"
     ]
    }
   ],
   "source": [
    "evaluate_model(model)"
   ]
  },
  {
   "cell_type": "code",
   "execution_count": 20,
   "metadata": {},
   "outputs": [],
   "source": [
    "from sklearn import metrics"
   ]
  },
  {
   "cell_type": "code",
   "execution_count": 41,
   "metadata": {},
   "outputs": [
    {
     "name": "stdout",
     "output_type": "stream",
     "text": [
      "AUC on train data by XGBoost = 0.9999330128858175\n"
     ]
    }
   ],
   "source": [
    "\n",
    "print('AUC on train data by XGBoost =', metrics.roc_auc_score(y_true=y_train_sm,\n",
    "                                                              y_score=model.predict_proba(X_train_sm)[:, 1]))"
   ]
  },
  {
   "cell_type": "code",
   "execution_count": 43,
   "metadata": {},
   "outputs": [
    {
     "name": "stdout",
     "output_type": "stream",
     "text": [
      "AUC on test data by XGBoost = 0.9844790683338172\n"
     ]
    }
   ],
   "source": [
    "print('AUC on test data by XGBoost =', metrics.roc_auc_score(y_true=y_test,\n",
    "                                                             y_score=model.predict_proba(X_test)[:, 1]))"
   ]
  },
  {
   "cell_type": "markdown",
   "metadata": {},
   "source": [
    "### AdaSync on Random Forest"
   ]
  },
  {
   "cell_type": "code",
   "execution_count": null,
   "metadata": {},
   "outputs": [],
   "source": []
  },
  {
   "cell_type": "markdown",
   "metadata": {},
   "source": []
  },
  {
   "cell_type": "markdown",
   "metadata": {},
   "source": [
    "DATA RESAMPLING\n",
    "\n",
    "ADASYN\n",
    "\n",
    "This is a oversampling technique of minority class to address the class imbalance issue. This method is similar to SMOTE but it generates different number of samples depending on an estimate of the local distribution of the class to be oversampled. \n"
   ]
  },
  {
   "cell_type": "code",
   "execution_count": 11,
   "metadata": {},
   "outputs": [
    {
     "data": {
      "text/plain": [
       "1    199011\n",
       "0    199008\n",
       "Name: Class, dtype: int64"
      ]
     },
     "execution_count": 11,
     "metadata": {},
     "output_type": "execute_result"
    }
   ],
   "source": [
    "from imblearn.over_sampling import ADASYN\n",
    "resample = ADASYN(sampling_strategy='all', random_state=42)\n",
    "x_resample, y_resample = resample.fit_resample(X_train,y_train)\n",
    "\n",
    "y_resample.value_counts()"
   ]
  },
  {
   "cell_type": "code",
   "execution_count": 43,
   "metadata": {},
   "outputs": [],
   "source": [
    "classifier_rf = RandomForestClassifier(random_state=42, n_jobs = -1)"
   ]
  },
  {
   "cell_type": "code",
   "execution_count": 44,
   "metadata": {},
   "outputs": [],
   "source": [
    "params = {\n",
    "    'max_depth': [5, 10, 20],\n",
    "    'min_samples_leaf': [5, 10, 20],\n",
    "    \n",
    "    'n_estimators': [100, 200]\n",
    "}"
   ]
  },
  {
   "cell_type": "code",
   "execution_count": 45,
   "metadata": {},
   "outputs": [],
   "source": [
    "# Instantiate the grid search model\n",
    "grid_search = GridSearchCV(estimator=classifier_rf, param_grid=params, \n",
    "                          cv=4, n_jobs=-1, verbose=1, scoring = \"recall\")"
   ]
  },
  {
   "cell_type": "code",
   "execution_count": 46,
   "metadata": {},
   "outputs": [
    {
     "name": "stdout",
     "output_type": "stream",
     "text": [
      "Fitting 4 folds for each of 18 candidates, totalling 72 fits\n",
      "CPU times: user 11min 23s, sys: 388 ms, total: 11min 23s\n",
      "Wall time: 48min 53s\n"
     ]
    },
    {
     "data": {
      "text/plain": [
       "GridSearchCV(cv=4, estimator=RandomForestClassifier(n_jobs=-1, random_state=42),\n",
       "             n_jobs=-1,\n",
       "             param_grid={'max_depth': [5, 10, 20],\n",
       "                         'min_samples_leaf': [5, 10, 20],\n",
       "                         'n_estimators': [100, 200]},\n",
       "             scoring='recall', verbose=1)"
      ]
     },
     "execution_count": 46,
     "metadata": {},
     "output_type": "execute_result"
    }
   ],
   "source": [
    "%%time\n",
    "grid_search.fit(x_resample,y_resample)"
   ]
  },
  {
   "cell_type": "code",
   "execution_count": 48,
   "metadata": {},
   "outputs": [],
   "source": [
    "rf_hyp_best = grid_search.best_estimator_"
   ]
  },
  {
   "cell_type": "code",
   "execution_count": 49,
   "metadata": {},
   "outputs": [
    {
     "data": {
      "text/plain": [
       "RandomForestClassifier(max_depth=20, min_samples_leaf=20, n_estimators=200,\n",
       "                       n_jobs=-1, random_state=42)"
      ]
     },
     "execution_count": 49,
     "metadata": {},
     "output_type": "execute_result"
    }
   ],
   "source": [
    "rf_hyp_best"
   ]
  },
  {
   "cell_type": "code",
   "execution_count": 50,
   "metadata": {},
   "outputs": [
    {
     "data": {
      "text/html": [
       "<div>\n",
       "<style scoped>\n",
       "    .dataframe tbody tr th:only-of-type {\n",
       "        vertical-align: middle;\n",
       "    }\n",
       "\n",
       "    .dataframe tbody tr th {\n",
       "        vertical-align: top;\n",
       "    }\n",
       "\n",
       "    .dataframe thead th {\n",
       "        text-align: right;\n",
       "    }\n",
       "</style>\n",
       "<table border=\"1\" class=\"dataframe\">\n",
       "  <thead>\n",
       "    <tr style=\"text-align: right;\">\n",
       "      <th></th>\n",
       "      <th>mean_fit_time</th>\n",
       "      <th>std_fit_time</th>\n",
       "      <th>mean_score_time</th>\n",
       "      <th>std_score_time</th>\n",
       "      <th>param_max_depth</th>\n",
       "      <th>param_min_samples_leaf</th>\n",
       "      <th>param_n_estimators</th>\n",
       "      <th>params</th>\n",
       "      <th>split0_test_score</th>\n",
       "      <th>split1_test_score</th>\n",
       "      <th>split2_test_score</th>\n",
       "      <th>split3_test_score</th>\n",
       "      <th>mean_test_score</th>\n",
       "      <th>std_test_score</th>\n",
       "      <th>rank_test_score</th>\n",
       "    </tr>\n",
       "  </thead>\n",
       "  <tbody>\n",
       "    <tr>\n",
       "      <th>0</th>\n",
       "      <td>125.477493</td>\n",
       "      <td>0.454630</td>\n",
       "      <td>0.966808</td>\n",
       "      <td>0.034209</td>\n",
       "      <td>5</td>\n",
       "      <td>5</td>\n",
       "      <td>100</td>\n",
       "      <td>{'max_depth': 5, 'min_samples_leaf': 5, 'n_est...</td>\n",
       "      <td>0.805318</td>\n",
       "      <td>0.859988</td>\n",
       "      <td>0.936949</td>\n",
       "      <td>0.889612</td>\n",
       "      <td>0.872967</td>\n",
       "      <td>0.047738</td>\n",
       "      <td>16</td>\n",
       "    </tr>\n",
       "    <tr>\n",
       "      <th>1</th>\n",
       "      <td>243.292994</td>\n",
       "      <td>0.233656</td>\n",
       "      <td>1.638119</td>\n",
       "      <td>0.124458</td>\n",
       "      <td>5</td>\n",
       "      <td>5</td>\n",
       "      <td>200</td>\n",
       "      <td>{'max_depth': 5, 'min_samples_leaf': 5, 'n_est...</td>\n",
       "      <td>0.806042</td>\n",
       "      <td>0.857556</td>\n",
       "      <td>0.940828</td>\n",
       "      <td>0.889251</td>\n",
       "      <td>0.873419</td>\n",
       "      <td>0.048954</td>\n",
       "      <td>14</td>\n",
       "    </tr>\n",
       "    <tr>\n",
       "      <th>2</th>\n",
       "      <td>123.595963</td>\n",
       "      <td>0.758329</td>\n",
       "      <td>1.029776</td>\n",
       "      <td>0.054638</td>\n",
       "      <td>5</td>\n",
       "      <td>10</td>\n",
       "      <td>100</td>\n",
       "      <td>{'max_depth': 5, 'min_samples_leaf': 10, 'n_es...</td>\n",
       "      <td>0.803871</td>\n",
       "      <td>0.859405</td>\n",
       "      <td>0.936386</td>\n",
       "      <td>0.888366</td>\n",
       "      <td>0.872007</td>\n",
       "      <td>0.047994</td>\n",
       "      <td>17</td>\n",
       "    </tr>\n",
       "    <tr>\n",
       "      <th>3</th>\n",
       "      <td>240.847511</td>\n",
       "      <td>0.931707</td>\n",
       "      <td>1.716327</td>\n",
       "      <td>0.105846</td>\n",
       "      <td>5</td>\n",
       "      <td>10</td>\n",
       "      <td>200</td>\n",
       "      <td>{'max_depth': 5, 'min_samples_leaf': 10, 'n_es...</td>\n",
       "      <td>0.806283</td>\n",
       "      <td>0.857335</td>\n",
       "      <td>0.941069</td>\n",
       "      <td>0.887603</td>\n",
       "      <td>0.873072</td>\n",
       "      <td>0.048844</td>\n",
       "      <td>15</td>\n",
       "    </tr>\n",
       "    <tr>\n",
       "      <th>4</th>\n",
       "      <td>126.295761</td>\n",
       "      <td>0.835566</td>\n",
       "      <td>0.960855</td>\n",
       "      <td>0.062687</td>\n",
       "      <td>5</td>\n",
       "      <td>20</td>\n",
       "      <td>100</td>\n",
       "      <td>{'max_depth': 5, 'min_samples_leaf': 20, 'n_es...</td>\n",
       "      <td>0.801459</td>\n",
       "      <td>0.860732</td>\n",
       "      <td>0.936768</td>\n",
       "      <td>0.888165</td>\n",
       "      <td>0.871781</td>\n",
       "      <td>0.048885</td>\n",
       "      <td>18</td>\n",
       "    </tr>\n",
       "  </tbody>\n",
       "</table>\n",
       "</div>"
      ],
      "text/plain": [
       "   mean_fit_time  std_fit_time  mean_score_time  std_score_time  \\\n",
       "0     125.477493      0.454630         0.966808        0.034209   \n",
       "1     243.292994      0.233656         1.638119        0.124458   \n",
       "2     123.595963      0.758329         1.029776        0.054638   \n",
       "3     240.847511      0.931707         1.716327        0.105846   \n",
       "4     126.295761      0.835566         0.960855        0.062687   \n",
       "\n",
       "  param_max_depth param_min_samples_leaf param_n_estimators  \\\n",
       "0               5                      5                100   \n",
       "1               5                      5                200   \n",
       "2               5                     10                100   \n",
       "3               5                     10                200   \n",
       "4               5                     20                100   \n",
       "\n",
       "                                              params  split0_test_score  \\\n",
       "0  {'max_depth': 5, 'min_samples_leaf': 5, 'n_est...           0.805318   \n",
       "1  {'max_depth': 5, 'min_samples_leaf': 5, 'n_est...           0.806042   \n",
       "2  {'max_depth': 5, 'min_samples_leaf': 10, 'n_es...           0.803871   \n",
       "3  {'max_depth': 5, 'min_samples_leaf': 10, 'n_es...           0.806283   \n",
       "4  {'max_depth': 5, 'min_samples_leaf': 20, 'n_es...           0.801459   \n",
       "\n",
       "   split1_test_score  split2_test_score  split3_test_score  mean_test_score  \\\n",
       "0           0.859988           0.936949           0.889612         0.872967   \n",
       "1           0.857556           0.940828           0.889251         0.873419   \n",
       "2           0.859405           0.936386           0.888366         0.872007   \n",
       "3           0.857335           0.941069           0.887603         0.873072   \n",
       "4           0.860732           0.936768           0.888165         0.871781   \n",
       "\n",
       "   std_test_score  rank_test_score  \n",
       "0        0.047738               16  \n",
       "1        0.048954               14  \n",
       "2        0.047994               17  \n",
       "3        0.048844               15  \n",
       "4        0.048885               18  "
      ]
     },
     "execution_count": 50,
     "metadata": {},
     "output_type": "execute_result"
    }
   ],
   "source": [
    "score_df = pd.DataFrame(grid_search.cv_results_)\n",
    "score_df.head()"
   ]
  },
  {
   "cell_type": "code",
   "execution_count": 51,
   "metadata": {},
   "outputs": [
    {
     "name": "stdout",
     "output_type": "stream",
     "text": [
      "Train Recall : 0.9971910112359551\n",
      "Train Confusion Matrix:\n",
      "[[198892    116]\n",
      " [     1    355]]\n",
      "--------------------------------------------------\n",
      "Test Recall : 0.8970588235294118\n",
      "Test Confusion Matrix:\n",
      "[[85252    55]\n",
      " [   14   122]]\n"
     ]
    }
   ],
   "source": [
    "evaluate_model(rf_hyp_best)"
   ]
  },
  {
   "cell_type": "code",
   "execution_count": 52,
   "metadata": {},
   "outputs": [],
   "source": [
    "from sklearn.metrics import confusion_matrix,accuracy_score,precision_score,recall_score,f1_score,matthews_corrcoef,classification_report,roc_curve\n",
    "#scoring knn\n",
    "rf_hyp_accuracy_score  = accuracy_score(y_test,rf_hyp_best.predict(X_test))\n",
    "rf_hyp_precison_score  = precision_score(y_test,rf_hyp_best.predict(X_test))\n",
    "rf_hyp_recall_score    = recall_score(y_test,rf_hyp_best.predict(X_test))\n",
    "rf_hyp_f1_score        = f1_score(y_test,rf_hyp_best.predict(X_test))\n",
    "rf_hyp_MCC             = matthews_corrcoef(y_test,rf_hyp_best.predict(X_test))"
   ]
  },
  {
   "cell_type": "code",
   "execution_count": 53,
   "metadata": {},
   "outputs": [
    {
     "name": "stdout",
     "output_type": "stream",
     "text": [
      "\n",
      "Random Forest with AdaSync and HyperParameters\n",
      "Scores\n",
      "Accuracy --> 0.9991924440855307\n",
      "Precison --> 0.6892655367231638\n",
      "Recall --> 0.8970588235294118\n",
      "F1 --> 0.7795527156549521\n",
      "MCC --> 0.7859517523891598\n",
      "              precision    recall  f1-score   support\n",
      "\n",
      "           0       1.00      1.00      1.00     85307\n",
      "           1       0.69      0.90      0.78       136\n",
      "\n",
      "    accuracy                           1.00     85443\n",
      "   macro avg       0.84      0.95      0.89     85443\n",
      "weighted avg       1.00      1.00      1.00     85443\n",
      "\n"
     ]
    }
   ],
   "source": [
    "#printing\n",
    "print(\"\")\n",
    "print(\"Random Forest with AdaSync and HyperParameters\")\n",
    "print(\"Scores\")\n",
    "print(\"Accuracy -->\",rf_hyp_accuracy_score)\n",
    "print(\"Precison -->\",rf_hyp_precison_score)\n",
    "print(\"Recall -->\",rf_hyp_recall_score)\n",
    "print(\"F1 -->\",rf_hyp_f1_score)\n",
    "print(\"MCC -->\",rf_hyp_MCC)\n",
    "print(classification_report(y_test, grid_search.predict(X_test)))"
   ]
  },
  {
   "cell_type": "code",
   "execution_count": null,
   "metadata": {},
   "outputs": [],
   "source": []
  },
  {
   "cell_type": "markdown",
   "metadata": {},
   "source": [
    "### AdaSync on XGBoost"
   ]
  },
  {
   "cell_type": "code",
   "execution_count": 12,
   "metadata": {},
   "outputs": [
    {
     "name": "stdout",
     "output_type": "stream",
     "text": [
      "Fitting 3 folds for each of 4500 candidates, totalling 13500 fits\n",
      "Best estimator: \n",
      "XGBClassifier(base_score=0.5, booster='gbtree', colsample_bylevel=1,\n",
      "              colsample_bynode=1, colsample_bytree=0.6, eval_metric='auc',\n",
      "              gamma=0.5, gpu_id=-1, importance_type='gain',\n",
      "              interaction_constraints='', learning_rate=0.3, max_delta_step=0,\n",
      "              max_depth=3, min_child_weight=3, missing=nan,\n",
      "              monotone_constraints='()', n_estimators=100, n_jobs=8,\n",
      "              num_parallel_tree=1, random_state=0, reg_alpha=0, reg_lambda=1,\n",
      "              scale_pos_weight=1, subsample=1.0, tree_method='exact',\n",
      "              use_label_encoder=False, validate_parameters=1, verbosity=None)\n",
      "Parameters:  {'colsample_bytree': 0.6, 'gamma': 0.5, 'learning_rate': 0.3, 'max_depth': 3, 'min_child_weight': 3, 'subsample': 1.0}\n",
      "Highest AUC: 1.00\n"
     ]
    }
   ],
   "source": [
    "rows = random.sample(np.arange(0,len(x_resample.index)).tolist(), 5000)\n",
    "model_params = xgboost_search(x_resample.iloc[rows,], y_resample.iloc[rows,])"
   ]
  },
  {
   "cell_type": "code",
   "execution_count": 13,
   "metadata": {},
   "outputs": [
    {
     "data": {
      "text/plain": [
       "XGBClassifier(base_score=0.5, booster='gbtree', colsample_bylevel=1,\n",
       "              colsample_bynode=1, colsample_bytree=0.6, eval_metric='auc',\n",
       "              gamma=0.5, gpu_id=-1, importance_type='gain',\n",
       "              interaction_constraints='', learning_rate=0.3, max_delta_step=0,\n",
       "              max_depth=3, min_child_weight=3, missing=nan,\n",
       "              monotone_constraints='()', n_estimators=100, n_jobs=8,\n",
       "              num_parallel_tree=1, random_state=0, reg_alpha=0, reg_lambda=1,\n",
       "              scale_pos_weight=1, subsample=1.0, tree_method='exact',\n",
       "              use_label_encoder=False, validate_parameters=1, verbosity=None)"
      ]
     },
     "execution_count": 13,
     "metadata": {},
     "output_type": "execute_result"
    }
   ],
   "source": [
    "model = XGBClassifier(objective=\"binary:logistic\", eval_metric=\"auc\", use_label_encoder=False)\n",
    "model.set_params(**model_params)\n",
    "model.fit(x_resample, y_resample)"
   ]
  },
  {
   "cell_type": "code",
   "execution_count": 16,
   "metadata": {},
   "outputs": [
    {
     "name": "stdout",
     "output_type": "stream",
     "text": [
      "Train Recall : 0.9971910112359551\n",
      "Train Confusion Matrix:\n",
      "[[197976   1032]\n",
      " [     1    355]]\n",
      "--------------------------------------------------\n",
      "Test Recall : 0.9044117647058824\n",
      "Test Confusion Matrix:\n",
      "[[84837   470]\n",
      " [   13   123]]\n"
     ]
    }
   ],
   "source": [
    "evaluate_model(model)"
   ]
  },
  {
   "cell_type": "code",
   "execution_count": 17,
   "metadata": {},
   "outputs": [],
   "source": [
    "from sklearn.metrics import confusion_matrix,accuracy_score,precision_score,recall_score,f1_score,matthews_corrcoef,classification_report,roc_curve\n",
    "#scoring knn\n",
    "xgbst_adasync_accuracy_score  = accuracy_score(y_test,model.predict(X_test))\n",
    "xgbst_adasync_precison_score  = precision_score(y_test,model.predict(X_test))\n",
    "xgbst_adasync_recall_score    = recall_score(y_test,model.predict(X_test))\n",
    "xgbst_adasync_f1_score        = f1_score(y_test,model.predict(X_test))\n",
    "xgbst_adasync_MCC             = matthews_corrcoef(y_test,model.predict(X_test))"
   ]
  },
  {
   "cell_type": "code",
   "execution_count": 18,
   "metadata": {},
   "outputs": [
    {
     "name": "stdout",
     "output_type": "stream",
     "text": [
      "\n",
      "XGBoost with AdaSync and HyperParameters\n",
      "Scores\n",
      "Accuracy --> 0.9943471085987149\n",
      "Precison --> 0.20741989881956155\n",
      "Recall --> 0.9044117647058824\n",
      "F1 --> 0.33744855967078186\n",
      "MCC --> 0.43163930770070924\n",
      "              precision    recall  f1-score   support\n",
      "\n",
      "           0       1.00      0.99      1.00     85307\n",
      "           1       0.21      0.90      0.34       136\n",
      "\n",
      "    accuracy                           0.99     85443\n",
      "   macro avg       0.60      0.95      0.67     85443\n",
      "weighted avg       1.00      0.99      1.00     85443\n",
      "\n"
     ]
    }
   ],
   "source": [
    "#printing\n",
    "print(\"\")\n",
    "print(\"XGBoost with AdaSync and HyperParameters\")\n",
    "print(\"Scores\")\n",
    "print(\"Accuracy -->\",xgbst_adasync_accuracy_score)\n",
    "print(\"Precison -->\",xgbst_adasync_precison_score)\n",
    "print(\"Recall -->\",xgbst_adasync_recall_score)\n",
    "print(\"F1 -->\",xgbst_adasync_f1_score)\n",
    "print(\"MCC -->\",xgbst_adasync_MCC)\n",
    "print(classification_report(y_test, model.predict(X_test)))"
   ]
  },
  {
   "cell_type": "markdown",
   "metadata": {},
   "source": [
    "Recall Achieved by XGBoost AdaSync .90"
   ]
  },
  {
   "cell_type": "code",
   "execution_count": 67,
   "metadata": {},
   "outputs": [
    {
     "data": {
      "image/png": "[encoded data removed]",
      "text/plain": [
       "<Figure size 360x360 with 1 Axes>"
      ]
     },
     "metadata": {
      "needs_background": "light"
     },
     "output_type": "display_data"
    }
   ],
   "source": []
  },
  {
   "cell_type": "code",
   "execution_count": null,
   "metadata": {},
   "outputs": [],
   "source": []
  }
 ],
 "metadata": {
  "kernelspec": {
   "display_name": "Python 3",
   "language": "python",
   "name": "python3"
  },
  "language_info": {
   "codemirror_mode": {
    "name": "ipython",
    "version": 3
   },
   "file_extension": ".py",
   "mimetype": "text/x-python",
   "name": "python",
   "nbconvert_exporter": "python",
   "pygments_lexer": "ipython3",
   "version": "3.8.8"
  }
 },
 "nbformat": 4,
 "nbformat_minor": 4
}
